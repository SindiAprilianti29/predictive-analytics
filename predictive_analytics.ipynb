{
  "nbformat": 4,
  "nbformat_minor": 0,
  "metadata": {
    "colab": {
      "provenance": []
    },
    "kernelspec": {
      "name": "python3",
      "display_name": "Python 3"
    },
    "language_info": {
      "name": "python"
    }
  },
  "cells": [
    {
      "cell_type": "markdown",
      "source": [
        "# Data Collection"
      ],
      "metadata": {
        "id": "XMWFdLzhx_yW"
      }
    },
    {
      "cell_type": "code",
      "execution_count": 1,
      "metadata": {
        "colab": {
          "base_uri": "https://localhost:8080/"
        },
        "id": "gga6g5WQulaa",
        "outputId": "842fa2be-56dc-4529-c98c-ebc81e4f0aed"
      },
      "outputs": [
        {
          "output_type": "stream",
          "name": "stdout",
          "text": [
            "Downloading from https://www.kaggle.com/api/v1/datasets/download/atharvasoundankar/mental-health-and-digital-behavior-20202024?dataset_version_number=1...\n"
          ]
        },
        {
          "output_type": "stream",
          "name": "stderr",
          "text": [
            "100%|██████████| 7.56k/7.56k [00:00<00:00, 7.05MB/s]"
          ]
        },
        {
          "output_type": "stream",
          "name": "stdout",
          "text": [
            "Extracting files...\n",
            "['mental_health_digital_behavior_data.csv']\n"
          ]
        },
        {
          "output_type": "stream",
          "name": "stderr",
          "text": [
            "\n"
          ]
        }
      ],
      "source": [
        "import kagglehub\n",
        "import shutil\n",
        "import os\n",
        "import pandas as pd\n",
        "\n",
        "dataset_path = kagglehub.dataset_download(\"atharvasoundankar/mental-health-and-digital-behavior-20202024\")\n",
        "print(os.listdir(dataset_path))"
      ]
    },
    {
      "cell_type": "markdown",
      "source": [
        "Download dataset dari kaggle, dengan judul \"Mental Health and Digital Behaviour (2020-2024)\""
      ],
      "metadata": {
        "id": "D2T8rMdy7HjV"
      }
    },
    {
      "cell_type": "code",
      "source": [
        "file_name = \"mental_health_digital_behavior_data.csv\"\n",
        "source_path = os.path.join(dataset_path, file_name)\n",
        "target_path = os.path.join(\"/content\", file_name)\n",
        "shutil.copy(source_path, target_path)\n",
        "\n",
        "print( target_path)\n",
        "\n",
        "df = pd.read_csv(target_path)"
      ],
      "metadata": {
        "colab": {
          "base_uri": "https://localhost:8080/"
        },
        "id": "6UJiHNTrxuHT",
        "outputId": "ba044d2f-1cc3-4148-bf97-bfea0f02240e"
      },
      "execution_count": 2,
      "outputs": [
        {
          "output_type": "stream",
          "name": "stdout",
          "text": [
            "/content/mental_health_digital_behavior_data.csv\n"
          ]
        }
      ]
    },
    {
      "cell_type": "markdown",
      "source": [
        "Menyalin dataset lalu membacanya ke dalam df."
      ],
      "metadata": {
        "id": "9BCCgKQZ7C-e"
      }
    },
    {
      "cell_type": "markdown",
      "source": [
        "# Import Library"
      ],
      "metadata": {
        "id": "SuDprSkSx2O8"
      }
    },
    {
      "cell_type": "code",
      "source": [
        "import matplotlib.pyplot as plt\n",
        "import seaborn as sns\n",
        "from sklearn.model_selection import train_test_split\n",
        "from sklearn.preprocessing import StandardScaler\n",
        "from sklearn.ensemble import RandomForestRegressor\n",
        "from sklearn.metrics import mean_squared_error\n",
        "from sklearn.linear_model import LinearRegression"
      ],
      "metadata": {
        "id": "QETh86IZxxWP"
      },
      "execution_count": 3,
      "outputs": []
    },
    {
      "cell_type": "markdown",
      "source": [
        "Mengimpor library yang dibutuhkan"
      ],
      "metadata": {
        "id": "ZzWZMBtU65Nh"
      }
    },
    {
      "cell_type": "markdown",
      "source": [
        "# EDA"
      ],
      "metadata": {
        "id": "DD403wP9yL-Y"
      }
    },
    {
      "cell_type": "code",
      "source": [
        "df.shape"
      ],
      "metadata": {
        "colab": {
          "base_uri": "https://localhost:8080/"
        },
        "id": "A7vOLtH97_fg",
        "outputId": "c71ec3ed-703f-477c-a3f5-744842e12541"
      },
      "execution_count": 4,
      "outputs": [
        {
          "output_type": "execute_result",
          "data": {
            "text/plain": [
              "(500, 9)"
            ]
          },
          "metadata": {},
          "execution_count": 4
        }
      ]
    },
    {
      "cell_type": "markdown",
      "source": [
        "Terdapat 500 entri data dengan 9 fitur"
      ],
      "metadata": {
        "id": "9RoVea7262Vd"
      }
    },
    {
      "cell_type": "code",
      "source": [
        "df.head()"
      ],
      "metadata": {
        "id": "fl-qyf_qyNGa",
        "colab": {
          "base_uri": "https://localhost:8080/",
          "height": 226
        },
        "outputId": "f7e5ffb8-722a-4eea-a6cd-92cf9b28c2ae"
      },
      "execution_count": 5,
      "outputs": [
        {
          "output_type": "execute_result",
          "data": {
            "text/plain": [
              "   daily_screen_time_min  num_app_switches  sleep_hours  notification_count  \\\n",
              "0                  389.8                53          5.9                  89   \n",
              "1                  351.7                52          7.2                  79   \n",
              "2                  398.9                39          8.0                 108   \n",
              "3                  451.4                44          6.5                  78   \n",
              "4                  346.0                43          6.9                  35   \n",
              "\n",
              "   social_media_time_min  focus_score  mood_score  anxiety_level  \\\n",
              "0                  133.2          6.8         8.9           10.0   \n",
              "1                  109.5          5.5         9.4           10.0   \n",
              "2                   84.7          6.7         9.4            9.4   \n",
              "3                   88.9          6.0         9.4            5.1   \n",
              "4                   78.8          8.2         9.4            8.0   \n",
              "\n",
              "   digital_wellbeing_score  \n",
              "0                     44.8  \n",
              "1                     43.6  \n",
              "2                     52.6  \n",
              "3                     58.4  \n",
              "4                     59.7  "
            ],
            "text/html": [
              "\n",
              "  <div id=\"df-a8396b3f-cb40-42bf-94a9-efcde86e203f\" class=\"colab-df-container\">\n",
              "    <div>\n",
              "<style scoped>\n",
              "    .dataframe tbody tr th:only-of-type {\n",
              "        vertical-align: middle;\n",
              "    }\n",
              "\n",
              "    .dataframe tbody tr th {\n",
              "        vertical-align: top;\n",
              "    }\n",
              "\n",
              "    .dataframe thead th {\n",
              "        text-align: right;\n",
              "    }\n",
              "</style>\n",
              "<table border=\"1\" class=\"dataframe\">\n",
              "  <thead>\n",
              "    <tr style=\"text-align: right;\">\n",
              "      <th></th>\n",
              "      <th>daily_screen_time_min</th>\n",
              "      <th>num_app_switches</th>\n",
              "      <th>sleep_hours</th>\n",
              "      <th>notification_count</th>\n",
              "      <th>social_media_time_min</th>\n",
              "      <th>focus_score</th>\n",
              "      <th>mood_score</th>\n",
              "      <th>anxiety_level</th>\n",
              "      <th>digital_wellbeing_score</th>\n",
              "    </tr>\n",
              "  </thead>\n",
              "  <tbody>\n",
              "    <tr>\n",
              "      <th>0</th>\n",
              "      <td>389.8</td>\n",
              "      <td>53</td>\n",
              "      <td>5.9</td>\n",
              "      <td>89</td>\n",
              "      <td>133.2</td>\n",
              "      <td>6.8</td>\n",
              "      <td>8.9</td>\n",
              "      <td>10.0</td>\n",
              "      <td>44.8</td>\n",
              "    </tr>\n",
              "    <tr>\n",
              "      <th>1</th>\n",
              "      <td>351.7</td>\n",
              "      <td>52</td>\n",
              "      <td>7.2</td>\n",
              "      <td>79</td>\n",
              "      <td>109.5</td>\n",
              "      <td>5.5</td>\n",
              "      <td>9.4</td>\n",
              "      <td>10.0</td>\n",
              "      <td>43.6</td>\n",
              "    </tr>\n",
              "    <tr>\n",
              "      <th>2</th>\n",
              "      <td>398.9</td>\n",
              "      <td>39</td>\n",
              "      <td>8.0</td>\n",
              "      <td>108</td>\n",
              "      <td>84.7</td>\n",
              "      <td>6.7</td>\n",
              "      <td>9.4</td>\n",
              "      <td>9.4</td>\n",
              "      <td>52.6</td>\n",
              "    </tr>\n",
              "    <tr>\n",
              "      <th>3</th>\n",
              "      <td>451.4</td>\n",
              "      <td>44</td>\n",
              "      <td>6.5</td>\n",
              "      <td>78</td>\n",
              "      <td>88.9</td>\n",
              "      <td>6.0</td>\n",
              "      <td>9.4</td>\n",
              "      <td>5.1</td>\n",
              "      <td>58.4</td>\n",
              "    </tr>\n",
              "    <tr>\n",
              "      <th>4</th>\n",
              "      <td>346.0</td>\n",
              "      <td>43</td>\n",
              "      <td>6.9</td>\n",
              "      <td>35</td>\n",
              "      <td>78.8</td>\n",
              "      <td>8.2</td>\n",
              "      <td>9.4</td>\n",
              "      <td>8.0</td>\n",
              "      <td>59.7</td>\n",
              "    </tr>\n",
              "  </tbody>\n",
              "</table>\n",
              "</div>\n",
              "    <div class=\"colab-df-buttons\">\n",
              "\n",
              "  <div class=\"colab-df-container\">\n",
              "    <button class=\"colab-df-convert\" onclick=\"convertToInteractive('df-a8396b3f-cb40-42bf-94a9-efcde86e203f')\"\n",
              "            title=\"Convert this dataframe to an interactive table.\"\n",
              "            style=\"display:none;\">\n",
              "\n",
              "  <svg xmlns=\"http://www.w3.org/2000/svg\" height=\"24px\" viewBox=\"0 -960 960 960\">\n",
              "    <path d=\"M120-120v-720h720v720H120Zm60-500h600v-160H180v160Zm220 220h160v-160H400v160Zm0 220h160v-160H400v160ZM180-400h160v-160H180v160Zm440 0h160v-160H620v160ZM180-180h160v-160H180v160Zm440 0h160v-160H620v160Z\"/>\n",
              "  </svg>\n",
              "    </button>\n",
              "\n",
              "  <style>\n",
              "    .colab-df-container {\n",
              "      display:flex;\n",
              "      gap: 12px;\n",
              "    }\n",
              "\n",
              "    .colab-df-convert {\n",
              "      background-color: #E8F0FE;\n",
              "      border: none;\n",
              "      border-radius: 50%;\n",
              "      cursor: pointer;\n",
              "      display: none;\n",
              "      fill: #1967D2;\n",
              "      height: 32px;\n",
              "      padding: 0 0 0 0;\n",
              "      width: 32px;\n",
              "    }\n",
              "\n",
              "    .colab-df-convert:hover {\n",
              "      background-color: #E2EBFA;\n",
              "      box-shadow: 0px 1px 2px rgba(60, 64, 67, 0.3), 0px 1px 3px 1px rgba(60, 64, 67, 0.15);\n",
              "      fill: #174EA6;\n",
              "    }\n",
              "\n",
              "    .colab-df-buttons div {\n",
              "      margin-bottom: 4px;\n",
              "    }\n",
              "\n",
              "    [theme=dark] .colab-df-convert {\n",
              "      background-color: #3B4455;\n",
              "      fill: #D2E3FC;\n",
              "    }\n",
              "\n",
              "    [theme=dark] .colab-df-convert:hover {\n",
              "      background-color: #434B5C;\n",
              "      box-shadow: 0px 1px 3px 1px rgba(0, 0, 0, 0.15);\n",
              "      filter: drop-shadow(0px 1px 2px rgba(0, 0, 0, 0.3));\n",
              "      fill: #FFFFFF;\n",
              "    }\n",
              "  </style>\n",
              "\n",
              "    <script>\n",
              "      const buttonEl =\n",
              "        document.querySelector('#df-a8396b3f-cb40-42bf-94a9-efcde86e203f button.colab-df-convert');\n",
              "      buttonEl.style.display =\n",
              "        google.colab.kernel.accessAllowed ? 'block' : 'none';\n",
              "\n",
              "      async function convertToInteractive(key) {\n",
              "        const element = document.querySelector('#df-a8396b3f-cb40-42bf-94a9-efcde86e203f');\n",
              "        const dataTable =\n",
              "          await google.colab.kernel.invokeFunction('convertToInteractive',\n",
              "                                                    [key], {});\n",
              "        if (!dataTable) return;\n",
              "\n",
              "        const docLinkHtml = 'Like what you see? Visit the ' +\n",
              "          '<a target=\"_blank\" href=https://colab.research.google.com/notebooks/data_table.ipynb>data table notebook</a>'\n",
              "          + ' to learn more about interactive tables.';\n",
              "        element.innerHTML = '';\n",
              "        dataTable['output_type'] = 'display_data';\n",
              "        await google.colab.output.renderOutput(dataTable, element);\n",
              "        const docLink = document.createElement('div');\n",
              "        docLink.innerHTML = docLinkHtml;\n",
              "        element.appendChild(docLink);\n",
              "      }\n",
              "    </script>\n",
              "  </div>\n",
              "\n",
              "\n",
              "    <div id=\"df-38ba9805-f7d1-4477-8ac2-22dad961e284\">\n",
              "      <button class=\"colab-df-quickchart\" onclick=\"quickchart('df-38ba9805-f7d1-4477-8ac2-22dad961e284')\"\n",
              "                title=\"Suggest charts\"\n",
              "                style=\"display:none;\">\n",
              "\n",
              "<svg xmlns=\"http://www.w3.org/2000/svg\" height=\"24px\"viewBox=\"0 0 24 24\"\n",
              "     width=\"24px\">\n",
              "    <g>\n",
              "        <path d=\"M19 3H5c-1.1 0-2 .9-2 2v14c0 1.1.9 2 2 2h14c1.1 0 2-.9 2-2V5c0-1.1-.9-2-2-2zM9 17H7v-7h2v7zm4 0h-2V7h2v10zm4 0h-2v-4h2v4z\"/>\n",
              "    </g>\n",
              "</svg>\n",
              "      </button>\n",
              "\n",
              "<style>\n",
              "  .colab-df-quickchart {\n",
              "      --bg-color: #E8F0FE;\n",
              "      --fill-color: #1967D2;\n",
              "      --hover-bg-color: #E2EBFA;\n",
              "      --hover-fill-color: #174EA6;\n",
              "      --disabled-fill-color: #AAA;\n",
              "      --disabled-bg-color: #DDD;\n",
              "  }\n",
              "\n",
              "  [theme=dark] .colab-df-quickchart {\n",
              "      --bg-color: #3B4455;\n",
              "      --fill-color: #D2E3FC;\n",
              "      --hover-bg-color: #434B5C;\n",
              "      --hover-fill-color: #FFFFFF;\n",
              "      --disabled-bg-color: #3B4455;\n",
              "      --disabled-fill-color: #666;\n",
              "  }\n",
              "\n",
              "  .colab-df-quickchart {\n",
              "    background-color: var(--bg-color);\n",
              "    border: none;\n",
              "    border-radius: 50%;\n",
              "    cursor: pointer;\n",
              "    display: none;\n",
              "    fill: var(--fill-color);\n",
              "    height: 32px;\n",
              "    padding: 0;\n",
              "    width: 32px;\n",
              "  }\n",
              "\n",
              "  .colab-df-quickchart:hover {\n",
              "    background-color: var(--hover-bg-color);\n",
              "    box-shadow: 0 1px 2px rgba(60, 64, 67, 0.3), 0 1px 3px 1px rgba(60, 64, 67, 0.15);\n",
              "    fill: var(--button-hover-fill-color);\n",
              "  }\n",
              "\n",
              "  .colab-df-quickchart-complete:disabled,\n",
              "  .colab-df-quickchart-complete:disabled:hover {\n",
              "    background-color: var(--disabled-bg-color);\n",
              "    fill: var(--disabled-fill-color);\n",
              "    box-shadow: none;\n",
              "  }\n",
              "\n",
              "  .colab-df-spinner {\n",
              "    border: 2px solid var(--fill-color);\n",
              "    border-color: transparent;\n",
              "    border-bottom-color: var(--fill-color);\n",
              "    animation:\n",
              "      spin 1s steps(1) infinite;\n",
              "  }\n",
              "\n",
              "  @keyframes spin {\n",
              "    0% {\n",
              "      border-color: transparent;\n",
              "      border-bottom-color: var(--fill-color);\n",
              "      border-left-color: var(--fill-color);\n",
              "    }\n",
              "    20% {\n",
              "      border-color: transparent;\n",
              "      border-left-color: var(--fill-color);\n",
              "      border-top-color: var(--fill-color);\n",
              "    }\n",
              "    30% {\n",
              "      border-color: transparent;\n",
              "      border-left-color: var(--fill-color);\n",
              "      border-top-color: var(--fill-color);\n",
              "      border-right-color: var(--fill-color);\n",
              "    }\n",
              "    40% {\n",
              "      border-color: transparent;\n",
              "      border-right-color: var(--fill-color);\n",
              "      border-top-color: var(--fill-color);\n",
              "    }\n",
              "    60% {\n",
              "      border-color: transparent;\n",
              "      border-right-color: var(--fill-color);\n",
              "    }\n",
              "    80% {\n",
              "      border-color: transparent;\n",
              "      border-right-color: var(--fill-color);\n",
              "      border-bottom-color: var(--fill-color);\n",
              "    }\n",
              "    90% {\n",
              "      border-color: transparent;\n",
              "      border-bottom-color: var(--fill-color);\n",
              "    }\n",
              "  }\n",
              "</style>\n",
              "\n",
              "      <script>\n",
              "        async function quickchart(key) {\n",
              "          const quickchartButtonEl =\n",
              "            document.querySelector('#' + key + ' button');\n",
              "          quickchartButtonEl.disabled = true;  // To prevent multiple clicks.\n",
              "          quickchartButtonEl.classList.add('colab-df-spinner');\n",
              "          try {\n",
              "            const charts = await google.colab.kernel.invokeFunction(\n",
              "                'suggestCharts', [key], {});\n",
              "          } catch (error) {\n",
              "            console.error('Error during call to suggestCharts:', error);\n",
              "          }\n",
              "          quickchartButtonEl.classList.remove('colab-df-spinner');\n",
              "          quickchartButtonEl.classList.add('colab-df-quickchart-complete');\n",
              "        }\n",
              "        (() => {\n",
              "          let quickchartButtonEl =\n",
              "            document.querySelector('#df-38ba9805-f7d1-4477-8ac2-22dad961e284 button');\n",
              "          quickchartButtonEl.style.display =\n",
              "            google.colab.kernel.accessAllowed ? 'block' : 'none';\n",
              "        })();\n",
              "      </script>\n",
              "    </div>\n",
              "\n",
              "    </div>\n",
              "  </div>\n"
            ],
            "application/vnd.google.colaboratory.intrinsic+json": {
              "type": "dataframe",
              "variable_name": "df",
              "summary": "{\n  \"name\": \"df\",\n  \"rows\": 500,\n  \"fields\": [\n    {\n      \"column\": \"daily_screen_time_min\",\n      \"properties\": {\n        \"dtype\": \"number\",\n        \"std\": 58.782475534975895,\n        \"min\": 180.0,\n        \"max\": 591.2,\n        \"num_unique_values\": 438,\n        \"samples\": [\n          292.5,\n          346.8,\n          414.0\n        ],\n        \"semantic_type\": \"\",\n        \"description\": \"\"\n      }\n    },\n    {\n      \"column\": \"num_app_switches\",\n      \"properties\": {\n        \"dtype\": \"number\",\n        \"std\": 7,\n        \"min\": 30,\n        \"max\": 72,\n        \"num_unique_values\": 40,\n        \"samples\": [\n          48,\n          47,\n          49\n        ],\n        \"semantic_type\": \"\",\n        \"description\": \"\"\n      }\n    },\n    {\n      \"column\": \"sleep_hours\",\n      \"properties\": {\n        \"dtype\": \"number\",\n        \"std\": 1.1920432770452158,\n        \"min\": 3.0,\n        \"max\": 10.0,\n        \"num_unique_values\": 63,\n        \"samples\": [\n          3.5,\n          4.2,\n          5.9\n        ],\n        \"semantic_type\": \"\",\n        \"description\": \"\"\n      }\n    },\n    {\n      \"column\": \"notification_count\",\n      \"properties\": {\n        \"dtype\": \"number\",\n        \"std\": 23,\n        \"min\": 20,\n        \"max\": 158,\n        \"num_unique_values\": 105,\n        \"samples\": [\n          101,\n          115,\n          77\n        ],\n        \"semantic_type\": \"\",\n        \"description\": \"\"\n      }\n    },\n    {\n      \"column\": \"social_media_time_min\",\n      \"properties\": {\n        \"dtype\": \"number\",\n        \"std\": 43.80944280995407,\n        \"min\": 30.0,\n        \"max\": 296.7,\n        \"num_unique_values\": 418,\n        \"samples\": [\n          115.7,\n          82.5,\n          132.9\n        ],\n        \"semantic_type\": \"\",\n        \"description\": \"\"\n      }\n    },\n    {\n      \"column\": \"focus_score\",\n      \"properties\": {\n        \"dtype\": \"number\",\n        \"std\": 0.6187420168105071,\n        \"min\": 5.5,\n        \"max\": 8.6,\n        \"num_unique_values\": 32,\n        \"samples\": [\n          8.5,\n          7.7,\n          7.8\n        ],\n        \"semantic_type\": \"\",\n        \"description\": \"\"\n      }\n    },\n    {\n      \"column\": \"mood_score\",\n      \"properties\": {\n        \"dtype\": \"number\",\n        \"std\": 0.5191040145827343,\n        \"min\": 7.4,\n        \"max\": 10.0,\n        \"num_unique_values\": 27,\n        \"samples\": [\n          9.1,\n          8.8,\n          9.5\n        ],\n        \"semantic_type\": \"\",\n        \"description\": \"\"\n      }\n    },\n    {\n      \"column\": \"anxiety_level\",\n      \"properties\": {\n        \"dtype\": \"number\",\n        \"std\": 2.1344245820813574,\n        \"min\": 1.0,\n        \"max\": 10.0,\n        \"num_unique_values\": 75,\n        \"samples\": [\n          7.8,\n          3.4,\n          4.2\n        ],\n        \"semantic_type\": \"\",\n        \"description\": \"\"\n      }\n    },\n    {\n      \"column\": \"digital_wellbeing_score\",\n      \"properties\": {\n        \"dtype\": \"number\",\n        \"std\": 7.943185774012903,\n        \"min\": 34.6,\n        \"max\": 80.8,\n        \"num_unique_values\": 237,\n        \"samples\": [\n          66.3,\n          42.4,\n          59.2\n        ],\n        \"semantic_type\": \"\",\n        \"description\": \"\"\n      }\n    }\n  ]\n}"
            }
          },
          "metadata": {},
          "execution_count": 5
        }
      ]
    },
    {
      "cell_type": "markdown",
      "source": [
        "Menampilkan beberapa contoh data. Fitur yang ada dalam dataset adalah daily_screen_time_min, num_app_switches, sleep_hours, notification_count, social_media_time_min, focus_score, mood_score, anxiety_lavel, dan digital_wellbeing_score."
      ],
      "metadata": {
        "id": "-Nvdoyr160Cu"
      }
    },
    {
      "cell_type": "code",
      "source": [
        "df.describe()"
      ],
      "metadata": {
        "colab": {
          "base_uri": "https://localhost:8080/",
          "height": 320
        },
        "id": "hL5avhJ26ShD",
        "outputId": "ddb27f1f-7717-4f17-a431-3239424018bf"
      },
      "execution_count": 6,
      "outputs": [
        {
          "output_type": "execute_result",
          "data": {
            "text/plain": [
              "       daily_screen_time_min  num_app_switches  sleep_hours  \\\n",
              "count             500.000000        500.000000   500.000000   \n",
              "mean              360.437800         49.840000     6.557400   \n",
              "std                58.782476          7.340993     1.192043   \n",
              "min               180.000000         30.000000     3.000000   \n",
              "25%               317.975000         44.000000     5.800000   \n",
              "50%               360.800000         50.000000     6.500000   \n",
              "75%               398.175000         55.000000     7.325000   \n",
              "max               591.200000         72.000000    10.000000   \n",
              "\n",
              "       notification_count  social_media_time_min  focus_score  mood_score  \\\n",
              "count           500.00000             500.000000   500.000000  500.000000   \n",
              "mean             79.51200             121.771800     6.998000    8.988600   \n",
              "std              23.97974              43.809443     0.618742    0.519104   \n",
              "min              20.00000              30.000000     5.500000    7.400000   \n",
              "25%              63.00000              91.875000     6.600000    8.600000   \n",
              "50%              80.00000             119.550000     7.000000    9.000000   \n",
              "75%              96.00000             149.500000     7.400000    9.300000   \n",
              "max             158.00000             296.700000     8.600000   10.000000   \n",
              "\n",
              "       anxiety_level  digital_wellbeing_score  \n",
              "count     500.000000               500.000000  \n",
              "mean        8.451800                52.310400  \n",
              "std         2.134425                 7.943186  \n",
              "min         1.000000                34.600000  \n",
              "25%         7.275000                46.800000  \n",
              "50%         9.700000                51.000000  \n",
              "75%        10.000000                56.600000  \n",
              "max        10.000000                80.800000  "
            ],
            "text/html": [
              "\n",
              "  <div id=\"df-5c3f11db-6b3a-430f-a7d7-13341d010298\" class=\"colab-df-container\">\n",
              "    <div>\n",
              "<style scoped>\n",
              "    .dataframe tbody tr th:only-of-type {\n",
              "        vertical-align: middle;\n",
              "    }\n",
              "\n",
              "    .dataframe tbody tr th {\n",
              "        vertical-align: top;\n",
              "    }\n",
              "\n",
              "    .dataframe thead th {\n",
              "        text-align: right;\n",
              "    }\n",
              "</style>\n",
              "<table border=\"1\" class=\"dataframe\">\n",
              "  <thead>\n",
              "    <tr style=\"text-align: right;\">\n",
              "      <th></th>\n",
              "      <th>daily_screen_time_min</th>\n",
              "      <th>num_app_switches</th>\n",
              "      <th>sleep_hours</th>\n",
              "      <th>notification_count</th>\n",
              "      <th>social_media_time_min</th>\n",
              "      <th>focus_score</th>\n",
              "      <th>mood_score</th>\n",
              "      <th>anxiety_level</th>\n",
              "      <th>digital_wellbeing_score</th>\n",
              "    </tr>\n",
              "  </thead>\n",
              "  <tbody>\n",
              "    <tr>\n",
              "      <th>count</th>\n",
              "      <td>500.000000</td>\n",
              "      <td>500.000000</td>\n",
              "      <td>500.000000</td>\n",
              "      <td>500.00000</td>\n",
              "      <td>500.000000</td>\n",
              "      <td>500.000000</td>\n",
              "      <td>500.000000</td>\n",
              "      <td>500.000000</td>\n",
              "      <td>500.000000</td>\n",
              "    </tr>\n",
              "    <tr>\n",
              "      <th>mean</th>\n",
              "      <td>360.437800</td>\n",
              "      <td>49.840000</td>\n",
              "      <td>6.557400</td>\n",
              "      <td>79.51200</td>\n",
              "      <td>121.771800</td>\n",
              "      <td>6.998000</td>\n",
              "      <td>8.988600</td>\n",
              "      <td>8.451800</td>\n",
              "      <td>52.310400</td>\n",
              "    </tr>\n",
              "    <tr>\n",
              "      <th>std</th>\n",
              "      <td>58.782476</td>\n",
              "      <td>7.340993</td>\n",
              "      <td>1.192043</td>\n",
              "      <td>23.97974</td>\n",
              "      <td>43.809443</td>\n",
              "      <td>0.618742</td>\n",
              "      <td>0.519104</td>\n",
              "      <td>2.134425</td>\n",
              "      <td>7.943186</td>\n",
              "    </tr>\n",
              "    <tr>\n",
              "      <th>min</th>\n",
              "      <td>180.000000</td>\n",
              "      <td>30.000000</td>\n",
              "      <td>3.000000</td>\n",
              "      <td>20.00000</td>\n",
              "      <td>30.000000</td>\n",
              "      <td>5.500000</td>\n",
              "      <td>7.400000</td>\n",
              "      <td>1.000000</td>\n",
              "      <td>34.600000</td>\n",
              "    </tr>\n",
              "    <tr>\n",
              "      <th>25%</th>\n",
              "      <td>317.975000</td>\n",
              "      <td>44.000000</td>\n",
              "      <td>5.800000</td>\n",
              "      <td>63.00000</td>\n",
              "      <td>91.875000</td>\n",
              "      <td>6.600000</td>\n",
              "      <td>8.600000</td>\n",
              "      <td>7.275000</td>\n",
              "      <td>46.800000</td>\n",
              "    </tr>\n",
              "    <tr>\n",
              "      <th>50%</th>\n",
              "      <td>360.800000</td>\n",
              "      <td>50.000000</td>\n",
              "      <td>6.500000</td>\n",
              "      <td>80.00000</td>\n",
              "      <td>119.550000</td>\n",
              "      <td>7.000000</td>\n",
              "      <td>9.000000</td>\n",
              "      <td>9.700000</td>\n",
              "      <td>51.000000</td>\n",
              "    </tr>\n",
              "    <tr>\n",
              "      <th>75%</th>\n",
              "      <td>398.175000</td>\n",
              "      <td>55.000000</td>\n",
              "      <td>7.325000</td>\n",
              "      <td>96.00000</td>\n",
              "      <td>149.500000</td>\n",
              "      <td>7.400000</td>\n",
              "      <td>9.300000</td>\n",
              "      <td>10.000000</td>\n",
              "      <td>56.600000</td>\n",
              "    </tr>\n",
              "    <tr>\n",
              "      <th>max</th>\n",
              "      <td>591.200000</td>\n",
              "      <td>72.000000</td>\n",
              "      <td>10.000000</td>\n",
              "      <td>158.00000</td>\n",
              "      <td>296.700000</td>\n",
              "      <td>8.600000</td>\n",
              "      <td>10.000000</td>\n",
              "      <td>10.000000</td>\n",
              "      <td>80.800000</td>\n",
              "    </tr>\n",
              "  </tbody>\n",
              "</table>\n",
              "</div>\n",
              "    <div class=\"colab-df-buttons\">\n",
              "\n",
              "  <div class=\"colab-df-container\">\n",
              "    <button class=\"colab-df-convert\" onclick=\"convertToInteractive('df-5c3f11db-6b3a-430f-a7d7-13341d010298')\"\n",
              "            title=\"Convert this dataframe to an interactive table.\"\n",
              "            style=\"display:none;\">\n",
              "\n",
              "  <svg xmlns=\"http://www.w3.org/2000/svg\" height=\"24px\" viewBox=\"0 -960 960 960\">\n",
              "    <path d=\"M120-120v-720h720v720H120Zm60-500h600v-160H180v160Zm220 220h160v-160H400v160Zm0 220h160v-160H400v160ZM180-400h160v-160H180v160Zm440 0h160v-160H620v160ZM180-180h160v-160H180v160Zm440 0h160v-160H620v160Z\"/>\n",
              "  </svg>\n",
              "    </button>\n",
              "\n",
              "  <style>\n",
              "    .colab-df-container {\n",
              "      display:flex;\n",
              "      gap: 12px;\n",
              "    }\n",
              "\n",
              "    .colab-df-convert {\n",
              "      background-color: #E8F0FE;\n",
              "      border: none;\n",
              "      border-radius: 50%;\n",
              "      cursor: pointer;\n",
              "      display: none;\n",
              "      fill: #1967D2;\n",
              "      height: 32px;\n",
              "      padding: 0 0 0 0;\n",
              "      width: 32px;\n",
              "    }\n",
              "\n",
              "    .colab-df-convert:hover {\n",
              "      background-color: #E2EBFA;\n",
              "      box-shadow: 0px 1px 2px rgba(60, 64, 67, 0.3), 0px 1px 3px 1px rgba(60, 64, 67, 0.15);\n",
              "      fill: #174EA6;\n",
              "    }\n",
              "\n",
              "    .colab-df-buttons div {\n",
              "      margin-bottom: 4px;\n",
              "    }\n",
              "\n",
              "    [theme=dark] .colab-df-convert {\n",
              "      background-color: #3B4455;\n",
              "      fill: #D2E3FC;\n",
              "    }\n",
              "\n",
              "    [theme=dark] .colab-df-convert:hover {\n",
              "      background-color: #434B5C;\n",
              "      box-shadow: 0px 1px 3px 1px rgba(0, 0, 0, 0.15);\n",
              "      filter: drop-shadow(0px 1px 2px rgba(0, 0, 0, 0.3));\n",
              "      fill: #FFFFFF;\n",
              "    }\n",
              "  </style>\n",
              "\n",
              "    <script>\n",
              "      const buttonEl =\n",
              "        document.querySelector('#df-5c3f11db-6b3a-430f-a7d7-13341d010298 button.colab-df-convert');\n",
              "      buttonEl.style.display =\n",
              "        google.colab.kernel.accessAllowed ? 'block' : 'none';\n",
              "\n",
              "      async function convertToInteractive(key) {\n",
              "        const element = document.querySelector('#df-5c3f11db-6b3a-430f-a7d7-13341d010298');\n",
              "        const dataTable =\n",
              "          await google.colab.kernel.invokeFunction('convertToInteractive',\n",
              "                                                    [key], {});\n",
              "        if (!dataTable) return;\n",
              "\n",
              "        const docLinkHtml = 'Like what you see? Visit the ' +\n",
              "          '<a target=\"_blank\" href=https://colab.research.google.com/notebooks/data_table.ipynb>data table notebook</a>'\n",
              "          + ' to learn more about interactive tables.';\n",
              "        element.innerHTML = '';\n",
              "        dataTable['output_type'] = 'display_data';\n",
              "        await google.colab.output.renderOutput(dataTable, element);\n",
              "        const docLink = document.createElement('div');\n",
              "        docLink.innerHTML = docLinkHtml;\n",
              "        element.appendChild(docLink);\n",
              "      }\n",
              "    </script>\n",
              "  </div>\n",
              "\n",
              "\n",
              "    <div id=\"df-3323153e-f1f5-4f00-ab2f-ed726c77f945\">\n",
              "      <button class=\"colab-df-quickchart\" onclick=\"quickchart('df-3323153e-f1f5-4f00-ab2f-ed726c77f945')\"\n",
              "                title=\"Suggest charts\"\n",
              "                style=\"display:none;\">\n",
              "\n",
              "<svg xmlns=\"http://www.w3.org/2000/svg\" height=\"24px\"viewBox=\"0 0 24 24\"\n",
              "     width=\"24px\">\n",
              "    <g>\n",
              "        <path d=\"M19 3H5c-1.1 0-2 .9-2 2v14c0 1.1.9 2 2 2h14c1.1 0 2-.9 2-2V5c0-1.1-.9-2-2-2zM9 17H7v-7h2v7zm4 0h-2V7h2v10zm4 0h-2v-4h2v4z\"/>\n",
              "    </g>\n",
              "</svg>\n",
              "      </button>\n",
              "\n",
              "<style>\n",
              "  .colab-df-quickchart {\n",
              "      --bg-color: #E8F0FE;\n",
              "      --fill-color: #1967D2;\n",
              "      --hover-bg-color: #E2EBFA;\n",
              "      --hover-fill-color: #174EA6;\n",
              "      --disabled-fill-color: #AAA;\n",
              "      --disabled-bg-color: #DDD;\n",
              "  }\n",
              "\n",
              "  [theme=dark] .colab-df-quickchart {\n",
              "      --bg-color: #3B4455;\n",
              "      --fill-color: #D2E3FC;\n",
              "      --hover-bg-color: #434B5C;\n",
              "      --hover-fill-color: #FFFFFF;\n",
              "      --disabled-bg-color: #3B4455;\n",
              "      --disabled-fill-color: #666;\n",
              "  }\n",
              "\n",
              "  .colab-df-quickchart {\n",
              "    background-color: var(--bg-color);\n",
              "    border: none;\n",
              "    border-radius: 50%;\n",
              "    cursor: pointer;\n",
              "    display: none;\n",
              "    fill: var(--fill-color);\n",
              "    height: 32px;\n",
              "    padding: 0;\n",
              "    width: 32px;\n",
              "  }\n",
              "\n",
              "  .colab-df-quickchart:hover {\n",
              "    background-color: var(--hover-bg-color);\n",
              "    box-shadow: 0 1px 2px rgba(60, 64, 67, 0.3), 0 1px 3px 1px rgba(60, 64, 67, 0.15);\n",
              "    fill: var(--button-hover-fill-color);\n",
              "  }\n",
              "\n",
              "  .colab-df-quickchart-complete:disabled,\n",
              "  .colab-df-quickchart-complete:disabled:hover {\n",
              "    background-color: var(--disabled-bg-color);\n",
              "    fill: var(--disabled-fill-color);\n",
              "    box-shadow: none;\n",
              "  }\n",
              "\n",
              "  .colab-df-spinner {\n",
              "    border: 2px solid var(--fill-color);\n",
              "    border-color: transparent;\n",
              "    border-bottom-color: var(--fill-color);\n",
              "    animation:\n",
              "      spin 1s steps(1) infinite;\n",
              "  }\n",
              "\n",
              "  @keyframes spin {\n",
              "    0% {\n",
              "      border-color: transparent;\n",
              "      border-bottom-color: var(--fill-color);\n",
              "      border-left-color: var(--fill-color);\n",
              "    }\n",
              "    20% {\n",
              "      border-color: transparent;\n",
              "      border-left-color: var(--fill-color);\n",
              "      border-top-color: var(--fill-color);\n",
              "    }\n",
              "    30% {\n",
              "      border-color: transparent;\n",
              "      border-left-color: var(--fill-color);\n",
              "      border-top-color: var(--fill-color);\n",
              "      border-right-color: var(--fill-color);\n",
              "    }\n",
              "    40% {\n",
              "      border-color: transparent;\n",
              "      border-right-color: var(--fill-color);\n",
              "      border-top-color: var(--fill-color);\n",
              "    }\n",
              "    60% {\n",
              "      border-color: transparent;\n",
              "      border-right-color: var(--fill-color);\n",
              "    }\n",
              "    80% {\n",
              "      border-color: transparent;\n",
              "      border-right-color: var(--fill-color);\n",
              "      border-bottom-color: var(--fill-color);\n",
              "    }\n",
              "    90% {\n",
              "      border-color: transparent;\n",
              "      border-bottom-color: var(--fill-color);\n",
              "    }\n",
              "  }\n",
              "</style>\n",
              "\n",
              "      <script>\n",
              "        async function quickchart(key) {\n",
              "          const quickchartButtonEl =\n",
              "            document.querySelector('#' + key + ' button');\n",
              "          quickchartButtonEl.disabled = true;  // To prevent multiple clicks.\n",
              "          quickchartButtonEl.classList.add('colab-df-spinner');\n",
              "          try {\n",
              "            const charts = await google.colab.kernel.invokeFunction(\n",
              "                'suggestCharts', [key], {});\n",
              "          } catch (error) {\n",
              "            console.error('Error during call to suggestCharts:', error);\n",
              "          }\n",
              "          quickchartButtonEl.classList.remove('colab-df-spinner');\n",
              "          quickchartButtonEl.classList.add('colab-df-quickchart-complete');\n",
              "        }\n",
              "        (() => {\n",
              "          let quickchartButtonEl =\n",
              "            document.querySelector('#df-3323153e-f1f5-4f00-ab2f-ed726c77f945 button');\n",
              "          quickchartButtonEl.style.display =\n",
              "            google.colab.kernel.accessAllowed ? 'block' : 'none';\n",
              "        })();\n",
              "      </script>\n",
              "    </div>\n",
              "\n",
              "    </div>\n",
              "  </div>\n"
            ],
            "application/vnd.google.colaboratory.intrinsic+json": {
              "type": "dataframe",
              "summary": "{\n  \"name\": \"df\",\n  \"rows\": 8,\n  \"fields\": [\n    {\n      \"column\": \"daily_screen_time_min\",\n      \"properties\": {\n        \"dtype\": \"number\",\n        \"std\": 168.10881599621462,\n        \"min\": 58.782475534975895,\n        \"max\": 591.2,\n        \"num_unique_values\": 8,\n        \"samples\": [\n          360.4378,\n          360.8,\n          500.0\n        ],\n        \"semantic_type\": \"\",\n        \"description\": \"\"\n      }\n    },\n    {\n      \"column\": \"num_app_switches\",\n      \"properties\": {\n        \"dtype\": \"number\",\n        \"std\": 162.3217048554137,\n        \"min\": 7.34099314539398,\n        \"max\": 500.0,\n        \"num_unique_values\": 8,\n        \"samples\": [\n          49.84,\n          50.0,\n          500.0\n        ],\n        \"semantic_type\": \"\",\n        \"description\": \"\"\n      }\n    },\n    {\n      \"column\": \"sleep_hours\",\n      \"properties\": {\n        \"dtype\": \"number\",\n        \"std\": 174.75795453735523,\n        \"min\": 1.1920432770452158,\n        \"max\": 500.0,\n        \"num_unique_values\": 8,\n        \"samples\": [\n          6.5573999999999995,\n          6.5,\n          500.0\n        ],\n        \"semantic_type\": \"\",\n        \"description\": \"\"\n      }\n    },\n    {\n      \"column\": \"notification_count\",\n      \"properties\": {\n        \"dtype\": \"number\",\n        \"std\": 156.60266474150097,\n        \"min\": 20.0,\n        \"max\": 500.0,\n        \"num_unique_values\": 8,\n        \"samples\": [\n          79.512,\n          80.0,\n          500.0\n        ],\n        \"semantic_type\": \"\",\n        \"description\": \"\"\n      }\n    },\n    {\n      \"column\": \"social_media_time_min\",\n      \"properties\": {\n        \"dtype\": \"number\",\n        \"std\": 156.69173774009707,\n        \"min\": 30.0,\n        \"max\": 500.0,\n        \"num_unique_values\": 8,\n        \"samples\": [\n          121.77179999999998,\n          119.55000000000001,\n          500.0\n        ],\n        \"semantic_type\": \"\",\n        \"description\": \"\"\n      }\n    },\n    {\n      \"column\": \"focus_score\",\n      \"properties\": {\n        \"dtype\": \"number\",\n        \"std\": 174.635621504367,\n        \"min\": 0.6187420168105071,\n        \"max\": 500.0,\n        \"num_unique_values\": 8,\n        \"samples\": [\n          6.998,\n          7.0,\n          500.0\n        ],\n        \"semantic_type\": \"\",\n        \"description\": \"\"\n      }\n    },\n    {\n      \"column\": \"mood_score\",\n      \"properties\": {\n        \"dtype\": \"number\",\n        \"std\": 174.0851198903653,\n        \"min\": 0.5191040145827343,\n        \"max\": 500.0,\n        \"num_unique_values\": 8,\n        \"samples\": [\n          8.9886,\n          9.0,\n          500.0\n        ],\n        \"semantic_type\": \"\",\n        \"description\": \"\"\n      }\n    },\n    {\n      \"column\": \"anxiety_level\",\n      \"properties\": {\n        \"dtype\": \"number\",\n        \"std\": 174.35967635779394,\n        \"min\": 1.0,\n        \"max\": 500.0,\n        \"num_unique_values\": 7,\n        \"samples\": [\n          500.0,\n          8.4518,\n          9.7\n        ],\n        \"semantic_type\": \"\",\n        \"description\": \"\"\n      }\n    },\n    {\n      \"column\": \"digital_wellbeing_score\",\n      \"properties\": {\n        \"dtype\": \"number\",\n        \"std\": 161.42068053972844,\n        \"min\": 7.943185774012903,\n        \"max\": 500.0,\n        \"num_unique_values\": 8,\n        \"samples\": [\n          52.310399999999994,\n          51.0,\n          500.0\n        ],\n        \"semantic_type\": \"\",\n        \"description\": \"\"\n      }\n    }\n  ]\n}"
            }
          },
          "metadata": {},
          "execution_count": 6
        }
      ]
    },
    {
      "cell_type": "markdown",
      "source": [
        "Menampilkan statistik deskriptif dari dataset untuk setiap fitur"
      ],
      "metadata": {
        "id": "Fw-nhHZE6wZg"
      }
    },
    {
      "cell_type": "code",
      "source": [
        "df.isnull().sum()"
      ],
      "metadata": {
        "colab": {
          "base_uri": "https://localhost:8080/",
          "height": 366
        },
        "id": "t8sZPPlZ6Tvt",
        "outputId": "52ccbb3d-8f39-489c-ad47-d61772e76224"
      },
      "execution_count": 7,
      "outputs": [
        {
          "output_type": "execute_result",
          "data": {
            "text/plain": [
              "daily_screen_time_min      0\n",
              "num_app_switches           0\n",
              "sleep_hours                0\n",
              "notification_count         0\n",
              "social_media_time_min      0\n",
              "focus_score                0\n",
              "mood_score                 0\n",
              "anxiety_level              0\n",
              "digital_wellbeing_score    0\n",
              "dtype: int64"
            ],
            "text/html": [
              "<div>\n",
              "<style scoped>\n",
              "    .dataframe tbody tr th:only-of-type {\n",
              "        vertical-align: middle;\n",
              "    }\n",
              "\n",
              "    .dataframe tbody tr th {\n",
              "        vertical-align: top;\n",
              "    }\n",
              "\n",
              "    .dataframe thead th {\n",
              "        text-align: right;\n",
              "    }\n",
              "</style>\n",
              "<table border=\"1\" class=\"dataframe\">\n",
              "  <thead>\n",
              "    <tr style=\"text-align: right;\">\n",
              "      <th></th>\n",
              "      <th>0</th>\n",
              "    </tr>\n",
              "  </thead>\n",
              "  <tbody>\n",
              "    <tr>\n",
              "      <th>daily_screen_time_min</th>\n",
              "      <td>0</td>\n",
              "    </tr>\n",
              "    <tr>\n",
              "      <th>num_app_switches</th>\n",
              "      <td>0</td>\n",
              "    </tr>\n",
              "    <tr>\n",
              "      <th>sleep_hours</th>\n",
              "      <td>0</td>\n",
              "    </tr>\n",
              "    <tr>\n",
              "      <th>notification_count</th>\n",
              "      <td>0</td>\n",
              "    </tr>\n",
              "    <tr>\n",
              "      <th>social_media_time_min</th>\n",
              "      <td>0</td>\n",
              "    </tr>\n",
              "    <tr>\n",
              "      <th>focus_score</th>\n",
              "      <td>0</td>\n",
              "    </tr>\n",
              "    <tr>\n",
              "      <th>mood_score</th>\n",
              "      <td>0</td>\n",
              "    </tr>\n",
              "    <tr>\n",
              "      <th>anxiety_level</th>\n",
              "      <td>0</td>\n",
              "    </tr>\n",
              "    <tr>\n",
              "      <th>digital_wellbeing_score</th>\n",
              "      <td>0</td>\n",
              "    </tr>\n",
              "  </tbody>\n",
              "</table>\n",
              "</div><br><label><b>dtype:</b> int64</label>"
            ]
          },
          "metadata": {},
          "execution_count": 7
        }
      ]
    },
    {
      "cell_type": "markdown",
      "source": [
        "Terlihat bahwa tidak ada missing values dalam dataset"
      ],
      "metadata": {
        "id": "ORDEOWPB1iX0"
      }
    },
    {
      "cell_type": "code",
      "source": [
        "df.duplicated().sum()"
      ],
      "metadata": {
        "colab": {
          "base_uri": "https://localhost:8080/"
        },
        "id": "HqLIt3a68b1o",
        "outputId": "374cd941-6d9b-494b-f81b-856e81feb13d"
      },
      "execution_count": 8,
      "outputs": [
        {
          "output_type": "execute_result",
          "data": {
            "text/plain": [
              "np.int64(0)"
            ]
          },
          "metadata": {},
          "execution_count": 8
        }
      ]
    },
    {
      "cell_type": "markdown",
      "source": [
        "Terlihat bahwa tidak ada data duplikat dalam dataset"
      ],
      "metadata": {
        "id": "dbxGVE1i6pHT"
      }
    },
    {
      "cell_type": "code",
      "source": [
        "# Loop setiap kolom numerik dan tampilkan boxplot-nya\n",
        "for col in df.select_dtypes(include='number').columns:\n",
        "    plt.figure(figsize=(6, 3))\n",
        "    sns.boxplot(x=df[col])\n",
        "    plt.title(f'Boxplot of {col}')\n",
        "    plt.tight_layout()\n",
        "    plt.show()"
      ],
      "metadata": {
        "colab": {
          "base_uri": "https://localhost:8080/",
          "height": 1000
        },
        "id": "a_-8RFJ2B82E",
        "outputId": "06883f41-f441-4dda-c918-b742ad2d315e"
      },
      "execution_count": 9,
      "outputs": [
        {
          "output_type": "display_data",
          "data": {
            "text/plain": [
              "<Figure size 600x300 with 1 Axes>"
            ],
            "image/png": "[encoded data removed]"
          },
          "metadata": {}
        },
        {
          "output_type": "display_data",
          "data": {
            "text/plain": [
              "<Figure size 600x300 with 1 Axes>"
            ],
            "image/png": "[encoded data removed]"
          },
          "metadata": {}
        },
        {
          "output_type": "display_data",
          "data": {
            "text/plain": [
              "<Figure size 600x300 with 1 Axes>"
            ],
            "image/png": "[encoded data removed]"
          },
          "metadata": {}
        },
        {
          "output_type": "display_data",
          "data": {
            "text/plain": [
              "<Figure size 600x300 with 1 Axes>"
            ],
            "image/png": "[encoded data removed]"
          },
          "metadata": {}
        },
        {
          "output_type": "display_data",
          "data": {
            "text/plain": [
              "<Figure size 600x300 with 1 Axes>"
            ],
            "image/png": "[encoded data removed]"
          },
          "metadata": {}
        },
        {
          "output_type": "display_data",
          "data": {
            "text/plain": [
              "<Figure size 600x300 with 1 Axes>"
            ],
            "image/png": "[encoded data removed]"
          },
          "metadata": {}
        },
        {
          "output_type": "display_data",
          "data": {
            "text/plain": [
              "<Figure size 600x300 with 1 Axes>"
            ],
            "image/png": "[encoded data removed]"
          },
          "metadata": {}
        },
        {
          "output_type": "display_data",
          "data": {
            "text/plain": [
              "<Figure size 600x300 with 1 Axes>"
            ],
            "image/png": "[encoded data removed]"
          },
          "metadata": {}
        },
        {
          "output_type": "display_data",
          "data": {
            "text/plain": [
              "<Figure size 600x300 with 1 Axes>"
            ],
            "image/png": "[encoded data removed]"
          },
          "metadata": {}
        }
      ]
    },
    {
      "cell_type": "markdown",
      "source": [
        "Semua fitur, kecuali focus_score (label) memiliki outlier."
      ],
      "metadata": {
        "id": "NsPrk5x31pZL"
      }
    },
    {
      "cell_type": "code",
      "source": [
        "# Menampilkan histogram untuk melihat distribusi data\n",
        "df.hist(bins=50, figsize=(20,15))\n",
        "plt.show()"
      ],
      "metadata": {
        "colab": {
          "base_uri": "https://localhost:8080/",
          "height": 525
        },
        "id": "ZAQ5kGzt-WES",
        "outputId": "9aeccba4-a160-4385-b9b4-bdcc01546dfe"
      },
      "execution_count": 10,
      "outputs": [
        {
          "output_type": "display_data",
          "data": {
            "text/plain": [
              "<Figure size 2000x1500 with 9 Axes>"
            ],
            "image/png": "[encoded data removed]"
          },
          "metadata": {}
        }
      ]
    },
    {
      "cell_type": "markdown",
      "source": [
        "Hampir semua fitur memiliki data dengan distribusi normal, mayoritas datanya berada di sekitar rata-rata, kecuali pada fitur anxiety_level yang datanya menjorok ke kiri, menunjukkan bahwa mayoritas orang memiliki anxiety level yang tinggi."
      ],
      "metadata": {
        "id": "hyLmUrFF4Dk6"
      }
    },
    {
      "cell_type": "code",
      "source": [
        "plt.figure(figsize=(10, 8))\n",
        "cols = df.select_dtypes(include='number').columns\n",
        "correlation_matrix = df[cols].corr().round(2)\n",
        "\n",
        "# Untuk menge-print nilai di dalam kotak, gunakan parameter anot=True\n",
        "sns.heatmap(data=correlation_matrix, annot=True, cmap='coolwarm', linewidths=0.5, )\n",
        "plt.title(\"Correlation Matrix \", size=20)"
      ],
      "metadata": {
        "colab": {
          "base_uri": "https://localhost:8080/",
          "height": 632
        },
        "id": "yva3RN98-1nG",
        "outputId": "f84316cc-3948-4f2b-d036-bcdd3cda7207"
      },
      "execution_count": 11,
      "outputs": [
        {
          "output_type": "execute_result",
          "data": {
            "text/plain": [
              "Text(0.5, 1.0, 'Correlation Matrix ')"
            ]
          },
          "metadata": {},
          "execution_count": 11
        },
        {
          "output_type": "display_data",
          "data": {
            "text/plain": [
              "<Figure size 1000x800 with 2 Axes>"
            ],
            "image/png": "[encoded data removed]"
          },
          "metadata": {}
        }
      ]
    },
    {
      "cell_type": "markdown",
      "source": [
        "Beberapa fitur yang memiliki korelasi negatif dengan focus_score diantaranya notification_count (-0.34), daily_screen_time_min (-0.31), dan num_app_switches (-0.28), menunjukkan bahwa ketika ketiga fitur ini meningkat, maka focus_score akan cenderung menurun. Sedangkan digital_wellbeing_score menunjukkan nilai 0.41 terhadap focus_Score menunjukkan fitur ini memiliki korelasi positif. Sedangkan fitur lain nilainya tidak terlalu signifikan."
      ],
      "metadata": {
        "id": "6d3NWaiw1_RI"
      }
    },
    {
      "cell_type": "markdown",
      "source": [
        "# Data Preparation"
      ],
      "metadata": {
        "id": "vKn5fChOyNdJ"
      }
    },
    {
      "cell_type": "code",
      "source": [
        "# Hitung Q1, Q3, dan IQR hanya untuk kolom numerikal\n",
        "cols = df.select_dtypes(include='number').columns\n",
        "Q1 = df[cols].quantile(0.25)\n",
        "Q3 = df[cols].quantile(0.75)\n",
        "IQR = Q3 - Q1\n",
        "# Buat filter untuk menghapus baris yang mengandung outlier di kolom numerikal\n",
        "filter_outliers = ~((df[cols] < (Q1 - 1.5 * IQR)) |\n",
        "                     (df[cols] > (Q3 + 1.5 * IQR))).any(axis=1)\n",
        "# Terapkan filter ke dataset asli (termasuk kolom non-numerikal)\n",
        "df = df[filter_outliers]\n",
        "# Cek ukuran dataset setelah outlier dihapus\n",
        "df.shape"
      ],
      "metadata": {
        "colab": {
          "base_uri": "https://localhost:8080/"
        },
        "id": "_ogUJb-uMNg8",
        "outputId": "afa21b62-78b5-4736-95f0-4653ed3186ab"
      },
      "execution_count": 12,
      "outputs": [
        {
          "output_type": "execute_result",
          "data": {
            "text/plain": [
              "(457, 9)"
            ]
          },
          "metadata": {},
          "execution_count": 12
        }
      ]
    },
    {
      "cell_type": "markdown",
      "source": [
        "Menghapus outlier dengan metode IQR, sehingga hanya tersisa 457 entri data"
      ],
      "metadata": {
        "id": "stsROW_AMUOg"
      }
    },
    {
      "cell_type": "code",
      "source": [
        "# Train test split\n",
        "X = df.drop([\"focus_score\"],axis =1)\n",
        "y = df[\"focus_score\"]\n",
        "X_train, X_test, y_train, y_test = train_test_split(X, y, test_size = 0.2, random_state = 123)"
      ],
      "metadata": {
        "id": "mrM0i42NymVP"
      },
      "execution_count": 13,
      "outputs": []
    },
    {
      "cell_type": "markdown",
      "source": [
        "Menetapkan fitur focus_score sebagai target. Membagi data menjadi data train dan data test, dengan proporsi 80 data train, 20 data test."
      ],
      "metadata": {
        "id": "425o_E8a2kCh"
      }
    },
    {
      "cell_type": "code",
      "source": [
        "print(f'Total # of sample in whole dataset: {len(X)}')\n",
        "print(f'Total # of sample in train dataset: {len(X_train)}')\n",
        "print(f'Total # of sample in test dataset: {len(X_test)}')"
      ],
      "metadata": {
        "id": "rkgDdr6WyoWA",
        "colab": {
          "base_uri": "https://localhost:8080/"
        },
        "outputId": "1f718f46-2fe4-48c7-91ce-6a71796a6798"
      },
      "execution_count": 14,
      "outputs": [
        {
          "output_type": "stream",
          "name": "stdout",
          "text": [
            "Total # of sample in whole dataset: 457\n",
            "Total # of sample in train dataset: 365\n",
            "Total # of sample in test dataset: 92\n"
          ]
        }
      ]
    },
    {
      "cell_type": "markdown",
      "source": [
        "Menampilkan jumlah sample pada keseluruhan dataset sebesar 457, pada data train sebanyak 365, dan data test 92"
      ],
      "metadata": {
        "id": "Q5GyRVg66FgZ"
      }
    },
    {
      "cell_type": "code",
      "source": [
        "# standardisasi\n",
        "numerical_features = df.select_dtypes(include='number').columns.drop('focus_score').tolist()\n",
        "scaler = StandardScaler()\n",
        "scaler.fit(X_train[numerical_features])\n",
        "X_train[numerical_features] = scaler.transform(X_train.loc[:, numerical_features])\n",
        "X_train[numerical_features].head()"
      ],
      "metadata": {
        "colab": {
          "base_uri": "https://localhost:8080/",
          "height": 226
        },
        "id": "1fKX5SsEEm2g",
        "outputId": "69e5bebe-f29d-4a7f-c970-7db3912ffc43"
      },
      "execution_count": 15,
      "outputs": [
        {
          "output_type": "execute_result",
          "data": {
            "text/plain": [
              "     daily_screen_time_min  num_app_switches  sleep_hours  notification_count  \\\n",
              "163              -0.890451          0.957281    -0.320943            0.669815   \n",
              "423               1.029278         -0.315349    -0.494619            1.325733   \n",
              "32               -0.026126         -0.173945    -1.015646           -0.860660   \n",
              "236              -2.181580          1.381491    -1.015646           -0.204742   \n",
              "65                1.441796         -2.012188    -0.234105           -0.860660   \n",
              "\n",
              "     social_media_time_min  mood_score  anxiety_level  digital_wellbeing_score  \n",
              "163               1.367641   -0.205885       0.710510                -1.364504  \n",
              "423               1.316280   -1.364979       0.710510                -1.042622  \n",
              "32               -1.508570   -0.785432      -0.053800                -0.184269  \n",
              "236              -0.398196   -0.399067      -1.229661                 0.244908  \n",
              "65                0.565432    0.953210      -1.817591                 1.854320  "
            ],
            "text/html": [
              "\n",
              "  <div id=\"df-601a537f-d82a-4f51-ba6e-17c573645015\" class=\"colab-df-container\">\n",
              "    <div>\n",
              "<style scoped>\n",
              "    .dataframe tbody tr th:only-of-type {\n",
              "        vertical-align: middle;\n",
              "    }\n",
              "\n",
              "    .dataframe tbody tr th {\n",
              "        vertical-align: top;\n",
              "    }\n",
              "\n",
              "    .dataframe thead th {\n",
              "        text-align: right;\n",
              "    }\n",
              "</style>\n",
              "<table border=\"1\" class=\"dataframe\">\n",
              "  <thead>\n",
              "    <tr style=\"text-align: right;\">\n",
              "      <th></th>\n",
              "      <th>daily_screen_time_min</th>\n",
              "      <th>num_app_switches</th>\n",
              "      <th>sleep_hours</th>\n",
              "      <th>notification_count</th>\n",
              "      <th>social_media_time_min</th>\n",
              "      <th>mood_score</th>\n",
              "      <th>anxiety_level</th>\n",
              "      <th>digital_wellbeing_score</th>\n",
              "    </tr>\n",
              "  </thead>\n",
              "  <tbody>\n",
              "    <tr>\n",
              "      <th>163</th>\n",
              "      <td>-0.890451</td>\n",
              "      <td>0.957281</td>\n",
              "      <td>-0.320943</td>\n",
              "      <td>0.669815</td>\n",
              "      <td>1.367641</td>\n",
              "      <td>-0.205885</td>\n",
              "      <td>0.710510</td>\n",
              "      <td>-1.364504</td>\n",
              "    </tr>\n",
              "    <tr>\n",
              "      <th>423</th>\n",
              "      <td>1.029278</td>\n",
              "      <td>-0.315349</td>\n",
              "      <td>-0.494619</td>\n",
              "      <td>1.325733</td>\n",
              "      <td>1.316280</td>\n",
              "      <td>-1.364979</td>\n",
              "      <td>0.710510</td>\n",
              "      <td>-1.042622</td>\n",
              "    </tr>\n",
              "    <tr>\n",
              "      <th>32</th>\n",
              "      <td>-0.026126</td>\n",
              "      <td>-0.173945</td>\n",
              "      <td>-1.015646</td>\n",
              "      <td>-0.860660</td>\n",
              "      <td>-1.508570</td>\n",
              "      <td>-0.785432</td>\n",
              "      <td>-0.053800</td>\n",
              "      <td>-0.184269</td>\n",
              "    </tr>\n",
              "    <tr>\n",
              "      <th>236</th>\n",
              "      <td>-2.181580</td>\n",
              "      <td>1.381491</td>\n",
              "      <td>-1.015646</td>\n",
              "      <td>-0.204742</td>\n",
              "      <td>-0.398196</td>\n",
              "      <td>-0.399067</td>\n",
              "      <td>-1.229661</td>\n",
              "      <td>0.244908</td>\n",
              "    </tr>\n",
              "    <tr>\n",
              "      <th>65</th>\n",
              "      <td>1.441796</td>\n",
              "      <td>-2.012188</td>\n",
              "      <td>-0.234105</td>\n",
              "      <td>-0.860660</td>\n",
              "      <td>0.565432</td>\n",
              "      <td>0.953210</td>\n",
              "      <td>-1.817591</td>\n",
              "      <td>1.854320</td>\n",
              "    </tr>\n",
              "  </tbody>\n",
              "</table>\n",
              "</div>\n",
              "    <div class=\"colab-df-buttons\">\n",
              "\n",
              "  <div class=\"colab-df-container\">\n",
              "    <button class=\"colab-df-convert\" onclick=\"convertToInteractive('df-601a537f-d82a-4f51-ba6e-17c573645015')\"\n",
              "            title=\"Convert this dataframe to an interactive table.\"\n",
              "            style=\"display:none;\">\n",
              "\n",
              "  <svg xmlns=\"http://www.w3.org/2000/svg\" height=\"24px\" viewBox=\"0 -960 960 960\">\n",
              "    <path d=\"M120-120v-720h720v720H120Zm60-500h600v-160H180v160Zm220 220h160v-160H400v160Zm0 220h160v-160H400v160ZM180-400h160v-160H180v160Zm440 0h160v-160H620v160ZM180-180h160v-160H180v160Zm440 0h160v-160H620v160Z\"/>\n",
              "  </svg>\n",
              "    </button>\n",
              "\n",
              "  <style>\n",
              "    .colab-df-container {\n",
              "      display:flex;\n",
              "      gap: 12px;\n",
              "    }\n",
              "\n",
              "    .colab-df-convert {\n",
              "      background-color: #E8F0FE;\n",
              "      border: none;\n",
              "      border-radius: 50%;\n",
              "      cursor: pointer;\n",
              "      display: none;\n",
              "      fill: #1967D2;\n",
              "      height: 32px;\n",
              "      padding: 0 0 0 0;\n",
              "      width: 32px;\n",
              "    }\n",
              "\n",
              "    .colab-df-convert:hover {\n",
              "      background-color: #E2EBFA;\n",
              "      box-shadow: 0px 1px 2px rgba(60, 64, 67, 0.3), 0px 1px 3px 1px rgba(60, 64, 67, 0.15);\n",
              "      fill: #174EA6;\n",
              "    }\n",
              "\n",
              "    .colab-df-buttons div {\n",
              "      margin-bottom: 4px;\n",
              "    }\n",
              "\n",
              "    [theme=dark] .colab-df-convert {\n",
              "      background-color: #3B4455;\n",
              "      fill: #D2E3FC;\n",
              "    }\n",
              "\n",
              "    [theme=dark] .colab-df-convert:hover {\n",
              "      background-color: #434B5C;\n",
              "      box-shadow: 0px 1px 3px 1px rgba(0, 0, 0, 0.15);\n",
              "      filter: drop-shadow(0px 1px 2px rgba(0, 0, 0, 0.3));\n",
              "      fill: #FFFFFF;\n",
              "    }\n",
              "  </style>\n",
              "\n",
              "    <script>\n",
              "      const buttonEl =\n",
              "        document.querySelector('#df-601a537f-d82a-4f51-ba6e-17c573645015 button.colab-df-convert');\n",
              "      buttonEl.style.display =\n",
              "        google.colab.kernel.accessAllowed ? 'block' : 'none';\n",
              "\n",
              "      async function convertToInteractive(key) {\n",
              "        const element = document.querySelector('#df-601a537f-d82a-4f51-ba6e-17c573645015');\n",
              "        const dataTable =\n",
              "          await google.colab.kernel.invokeFunction('convertToInteractive',\n",
              "                                                    [key], {});\n",
              "        if (!dataTable) return;\n",
              "\n",
              "        const docLinkHtml = 'Like what you see? Visit the ' +\n",
              "          '<a target=\"_blank\" href=https://colab.research.google.com/notebooks/data_table.ipynb>data table notebook</a>'\n",
              "          + ' to learn more about interactive tables.';\n",
              "        element.innerHTML = '';\n",
              "        dataTable['output_type'] = 'display_data';\n",
              "        await google.colab.output.renderOutput(dataTable, element);\n",
              "        const docLink = document.createElement('div');\n",
              "        docLink.innerHTML = docLinkHtml;\n",
              "        element.appendChild(docLink);\n",
              "      }\n",
              "    </script>\n",
              "  </div>\n",
              "\n",
              "\n",
              "    <div id=\"df-a29e730b-bf2c-4650-bc07-f551f5e9de02\">\n",
              "      <button class=\"colab-df-quickchart\" onclick=\"quickchart('df-a29e730b-bf2c-4650-bc07-f551f5e9de02')\"\n",
              "                title=\"Suggest charts\"\n",
              "                style=\"display:none;\">\n",
              "\n",
              "<svg xmlns=\"http://www.w3.org/2000/svg\" height=\"24px\"viewBox=\"0 0 24 24\"\n",
              "     width=\"24px\">\n",
              "    <g>\n",
              "        <path d=\"M19 3H5c-1.1 0-2 .9-2 2v14c0 1.1.9 2 2 2h14c1.1 0 2-.9 2-2V5c0-1.1-.9-2-2-2zM9 17H7v-7h2v7zm4 0h-2V7h2v10zm4 0h-2v-4h2v4z\"/>\n",
              "    </g>\n",
              "</svg>\n",
              "      </button>\n",
              "\n",
              "<style>\n",
              "  .colab-df-quickchart {\n",
              "      --bg-color: #E8F0FE;\n",
              "      --fill-color: #1967D2;\n",
              "      --hover-bg-color: #E2EBFA;\n",
              "      --hover-fill-color: #174EA6;\n",
              "      --disabled-fill-color: #AAA;\n",
              "      --disabled-bg-color: #DDD;\n",
              "  }\n",
              "\n",
              "  [theme=dark] .colab-df-quickchart {\n",
              "      --bg-color: #3B4455;\n",
              "      --fill-color: #D2E3FC;\n",
              "      --hover-bg-color: #434B5C;\n",
              "      --hover-fill-color: #FFFFFF;\n",
              "      --disabled-bg-color: #3B4455;\n",
              "      --disabled-fill-color: #666;\n",
              "  }\n",
              "\n",
              "  .colab-df-quickchart {\n",
              "    background-color: var(--bg-color);\n",
              "    border: none;\n",
              "    border-radius: 50%;\n",
              "    cursor: pointer;\n",
              "    display: none;\n",
              "    fill: var(--fill-color);\n",
              "    height: 32px;\n",
              "    padding: 0;\n",
              "    width: 32px;\n",
              "  }\n",
              "\n",
              "  .colab-df-quickchart:hover {\n",
              "    background-color: var(--hover-bg-color);\n",
              "    box-shadow: 0 1px 2px rgba(60, 64, 67, 0.3), 0 1px 3px 1px rgba(60, 64, 67, 0.15);\n",
              "    fill: var(--button-hover-fill-color);\n",
              "  }\n",
              "\n",
              "  .colab-df-quickchart-complete:disabled,\n",
              "  .colab-df-quickchart-complete:disabled:hover {\n",
              "    background-color: var(--disabled-bg-color);\n",
              "    fill: var(--disabled-fill-color);\n",
              "    box-shadow: none;\n",
              "  }\n",
              "\n",
              "  .colab-df-spinner {\n",
              "    border: 2px solid var(--fill-color);\n",
              "    border-color: transparent;\n",
              "    border-bottom-color: var(--fill-color);\n",
              "    animation:\n",
              "      spin 1s steps(1) infinite;\n",
              "  }\n",
              "\n",
              "  @keyframes spin {\n",
              "    0% {\n",
              "      border-color: transparent;\n",
              "      border-bottom-color: var(--fill-color);\n",
              "      border-left-color: var(--fill-color);\n",
              "    }\n",
              "    20% {\n",
              "      border-color: transparent;\n",
              "      border-left-color: var(--fill-color);\n",
              "      border-top-color: var(--fill-color);\n",
              "    }\n",
              "    30% {\n",
              "      border-color: transparent;\n",
              "      border-left-color: var(--fill-color);\n",
              "      border-top-color: var(--fill-color);\n",
              "      border-right-color: var(--fill-color);\n",
              "    }\n",
              "    40% {\n",
              "      border-color: transparent;\n",
              "      border-right-color: var(--fill-color);\n",
              "      border-top-color: var(--fill-color);\n",
              "    }\n",
              "    60% {\n",
              "      border-color: transparent;\n",
              "      border-right-color: var(--fill-color);\n",
              "    }\n",
              "    80% {\n",
              "      border-color: transparent;\n",
              "      border-right-color: var(--fill-color);\n",
              "      border-bottom-color: var(--fill-color);\n",
              "    }\n",
              "    90% {\n",
              "      border-color: transparent;\n",
              "      border-bottom-color: var(--fill-color);\n",
              "    }\n",
              "  }\n",
              "</style>\n",
              "\n",
              "      <script>\n",
              "        async function quickchart(key) {\n",
              "          const quickchartButtonEl =\n",
              "            document.querySelector('#' + key + ' button');\n",
              "          quickchartButtonEl.disabled = true;  // To prevent multiple clicks.\n",
              "          quickchartButtonEl.classList.add('colab-df-spinner');\n",
              "          try {\n",
              "            const charts = await google.colab.kernel.invokeFunction(\n",
              "                'suggestCharts', [key], {});\n",
              "          } catch (error) {\n",
              "            console.error('Error during call to suggestCharts:', error);\n",
              "          }\n",
              "          quickchartButtonEl.classList.remove('colab-df-spinner');\n",
              "          quickchartButtonEl.classList.add('colab-df-quickchart-complete');\n",
              "        }\n",
              "        (() => {\n",
              "          let quickchartButtonEl =\n",
              "            document.querySelector('#df-a29e730b-bf2c-4650-bc07-f551f5e9de02 button');\n",
              "          quickchartButtonEl.style.display =\n",
              "            google.colab.kernel.accessAllowed ? 'block' : 'none';\n",
              "        })();\n",
              "      </script>\n",
              "    </div>\n",
              "\n",
              "    </div>\n",
              "  </div>\n"
            ],
            "application/vnd.google.colaboratory.intrinsic+json": {
              "type": "dataframe",
              "summary": "{\n  \"name\": \"X_train[numerical_features]\",\n  \"rows\": 5,\n  \"fields\": [\n    {\n      \"column\": \"daily_screen_time_min\",\n      \"properties\": {\n        \"dtype\": \"number\",\n        \"std\": 1.4673461095796967,\n        \"min\": -2.181579809542522,\n        \"max\": 1.4417962840446414,\n        \"num_unique_values\": 5,\n        \"samples\": [\n          1.0292778623498984,\n          1.4417962840446414,\n          -0.02612641133665387\n        ],\n        \"semantic_type\": \"\",\n        \"description\": \"\"\n      }\n    },\n    {\n      \"column\": \"num_app_switches\",\n      \"properties\": {\n        \"dtype\": \"number\",\n        \"std\": 1.322706487003004,\n        \"min\": -2.012187921775573,\n        \"max\": 1.3814905908840387,\n        \"num_unique_values\": 5,\n        \"samples\": [\n          -0.31534866544576723,\n          -2.012187921775573,\n          -0.1739453940849501\n        ],\n        \"semantic_type\": \"\",\n        \"description\": \"\"\n      }\n    },\n    {\n      \"column\": \"sleep_hours\",\n      \"properties\": {\n        \"dtype\": \"number\",\n        \"std\": 0.37652006328712584,\n        \"min\": -1.0156462953432732,\n        \"max\": -0.2341054004726582,\n        \"num_unique_values\": 4,\n        \"samples\": [\n          -0.49461903209619656,\n          -0.2341054004726582,\n          -0.32094327768050407\n        ],\n        \"semantic_type\": \"\",\n        \"description\": \"\"\n      }\n    },\n    {\n      \"column\": \"notification_count\",\n      \"properties\": {\n        \"dtype\": \"number\",\n        \"std\": 0.9654847384891043,\n        \"min\": -0.8606598875134825,\n        \"max\": 1.3257325049031448,\n        \"num_unique_values\": 4,\n        \"samples\": [\n          1.3257325049031448,\n          -0.2047421697884943,\n          0.6698147871781567\n        ],\n        \"semantic_type\": \"\",\n        \"description\": \"\"\n      }\n    },\n    {\n      \"column\": \"social_media_time_min\",\n      \"properties\": {\n        \"dtype\": \"number\",\n        \"std\": 1.2243962473215957,\n        \"min\": -1.5085701674004128,\n        \"max\": 1.3676409168107,\n        \"num_unique_values\": 5,\n        \"samples\": [\n          1.3162800045926446,\n          0.5654323831191649,\n          -1.5085701674004128\n        ],\n        \"semantic_type\": \"\",\n        \"description\": \"\"\n      }\n    },\n    {\n      \"column\": \"mood_score\",\n      \"properties\": {\n        \"dtype\": \"number\",\n        \"std\": 0.8574340977545274,\n        \"min\": -1.3649794554903605,\n        \"max\": 0.9532097709725252,\n        \"num_unique_values\": 5,\n        \"samples\": [\n          -1.3649794554903605,\n          0.9532097709725252,\n          -0.7854321488746407\n        ],\n        \"semantic_type\": \"\",\n        \"description\": \"\"\n      }\n    },\n    {\n      \"column\": \"anxiety_level\",\n      \"properties\": {\n        \"dtype\": \"number\",\n        \"std\": 1.1471428295931778,\n        \"min\": -1.8175914431009077,\n        \"max\": 0.7105100899962875,\n        \"num_unique_values\": 4,\n        \"samples\": [\n          -0.05379967582379523,\n          -1.8175914431009077,\n          0.7105100899962875\n        ],\n        \"semantic_type\": \"\",\n        \"description\": \"\"\n      }\n    },\n    {\n      \"column\": \"digital_wellbeing_score\",\n      \"properties\": {\n        \"dtype\": \"number\",\n        \"std\": 1.2681604702359983,\n        \"min\": -1.364504319181469,\n        \"max\": 1.8543199218938229,\n        \"num_unique_values\": 5,\n        \"samples\": [\n          -1.0426218950739397,\n          1.8543199218938229,\n          -0.18426876412052826\n        ],\n        \"semantic_type\": \"\",\n        \"description\": \"\"\n      }\n    }\n  ]\n}"
            }
          },
          "metadata": {},
          "execution_count": 15
        }
      ]
    },
    {
      "cell_type": "markdown",
      "source": [
        "Melakukan normalisasi dengan StandardScaler agar setiap fitur memiliki rata rata 0 dan standar deviasi 1"
      ],
      "metadata": {
        "id": "3nk1VYmw2rxn"
      }
    },
    {
      "cell_type": "code",
      "source": [
        "X_train[numerical_features].describe().round(4)"
      ],
      "metadata": {
        "colab": {
          "base_uri": "https://localhost:8080/",
          "height": 320
        },
        "id": "Mh58VsFgF581",
        "outputId": "78150b61-7b8c-42a4-8404-c1cb91198a2b"
      },
      "execution_count": 16,
      "outputs": [
        {
          "output_type": "execute_result",
          "data": {
            "text/plain": [
              "       daily_screen_time_min  num_app_switches  sleep_hours  \\\n",
              "count               365.0000          365.0000     365.0000   \n",
              "mean                 -0.0000            0.0000       0.0000   \n",
              "std                   1.0014            1.0014       1.0014   \n",
              "min                  -2.8191           -2.7192      -2.5787   \n",
              "25%                  -0.7101           -0.7396      -0.6683   \n",
              "50%                   0.0024           -0.0325      -0.0604   \n",
              "75%                   0.6578            0.6745       0.6343   \n",
              "max                   2.6276            3.0783       2.6315   \n",
              "\n",
              "       notification_count  social_media_time_min  mood_score  anxiety_level  \\\n",
              "count            365.0000               365.0000    365.0000       365.0000   \n",
              "mean              -0.0000                -0.0000      0.0000         0.0000   \n",
              "std                1.0014                 1.0014      1.0014         1.0014   \n",
              "min               -2.6098                -2.2374     -2.7173        -3.2874   \n",
              "25%               -0.6857                -0.7039     -0.5922        -0.4654   \n",
              "50%               -0.0298                -0.0705     -0.0127         0.7105   \n",
              "75%                0.7135                 0.7122      0.5668         0.7105   \n",
              "max                2.6376                 2.6345      1.9191         0.7105   \n",
              "\n",
              "       digital_wellbeing_score  \n",
              "count                 365.0000  \n",
              "mean                   -0.0000  \n",
              "std                     1.0014  \n",
              "min                    -2.5601  \n",
              "25%                    -0.6901  \n",
              "50%                    -0.1230  \n",
              "75%                     0.6281  \n",
              "max                     2.7433  "
            ],
            "text/html": [
              "\n",
              "  <div id=\"df-680197b5-0ec2-4039-b746-5720045b1858\" class=\"colab-df-container\">\n",
              "    <div>\n",
              "<style scoped>\n",
              "    .dataframe tbody tr th:only-of-type {\n",
              "        vertical-align: middle;\n",
              "    }\n",
              "\n",
              "    .dataframe tbody tr th {\n",
              "        vertical-align: top;\n",
              "    }\n",
              "\n",
              "    .dataframe thead th {\n",
              "        text-align: right;\n",
              "    }\n",
              "</style>\n",
              "<table border=\"1\" class=\"dataframe\">\n",
              "  <thead>\n",
              "    <tr style=\"text-align: right;\">\n",
              "      <th></th>\n",
              "      <th>daily_screen_time_min</th>\n",
              "      <th>num_app_switches</th>\n",
              "      <th>sleep_hours</th>\n",
              "      <th>notification_count</th>\n",
              "      <th>social_media_time_min</th>\n",
              "      <th>mood_score</th>\n",
              "      <th>anxiety_level</th>\n",
              "      <th>digital_wellbeing_score</th>\n",
              "    </tr>\n",
              "  </thead>\n",
              "  <tbody>\n",
              "    <tr>\n",
              "      <th>count</th>\n",
              "      <td>365.0000</td>\n",
              "      <td>365.0000</td>\n",
              "      <td>365.0000</td>\n",
              "      <td>365.0000</td>\n",
              "      <td>365.0000</td>\n",
              "      <td>365.0000</td>\n",
              "      <td>365.0000</td>\n",
              "      <td>365.0000</td>\n",
              "    </tr>\n",
              "    <tr>\n",
              "      <th>mean</th>\n",
              "      <td>-0.0000</td>\n",
              "      <td>0.0000</td>\n",
              "      <td>0.0000</td>\n",
              "      <td>-0.0000</td>\n",
              "      <td>-0.0000</td>\n",
              "      <td>0.0000</td>\n",
              "      <td>0.0000</td>\n",
              "      <td>-0.0000</td>\n",
              "    </tr>\n",
              "    <tr>\n",
              "      <th>std</th>\n",
              "      <td>1.0014</td>\n",
              "      <td>1.0014</td>\n",
              "      <td>1.0014</td>\n",
              "      <td>1.0014</td>\n",
              "      <td>1.0014</td>\n",
              "      <td>1.0014</td>\n",
              "      <td>1.0014</td>\n",
              "      <td>1.0014</td>\n",
              "    </tr>\n",
              "    <tr>\n",
              "      <th>min</th>\n",
              "      <td>-2.8191</td>\n",
              "      <td>-2.7192</td>\n",
              "      <td>-2.5787</td>\n",
              "      <td>-2.6098</td>\n",
              "      <td>-2.2374</td>\n",
              "      <td>-2.7173</td>\n",
              "      <td>-3.2874</td>\n",
              "      <td>-2.5601</td>\n",
              "    </tr>\n",
              "    <tr>\n",
              "      <th>25%</th>\n",
              "      <td>-0.7101</td>\n",
              "      <td>-0.7396</td>\n",
              "      <td>-0.6683</td>\n",
              "      <td>-0.6857</td>\n",
              "      <td>-0.7039</td>\n",
              "      <td>-0.5922</td>\n",
              "      <td>-0.4654</td>\n",
              "      <td>-0.6901</td>\n",
              "    </tr>\n",
              "    <tr>\n",
              "      <th>50%</th>\n",
              "      <td>0.0024</td>\n",
              "      <td>-0.0325</td>\n",
              "      <td>-0.0604</td>\n",
              "      <td>-0.0298</td>\n",
              "      <td>-0.0705</td>\n",
              "      <td>-0.0127</td>\n",
              "      <td>0.7105</td>\n",
              "      <td>-0.1230</td>\n",
              "    </tr>\n",
              "    <tr>\n",
              "      <th>75%</th>\n",
              "      <td>0.6578</td>\n",
              "      <td>0.6745</td>\n",
              "      <td>0.6343</td>\n",
              "      <td>0.7135</td>\n",
              "      <td>0.7122</td>\n",
              "      <td>0.5668</td>\n",
              "      <td>0.7105</td>\n",
              "      <td>0.6281</td>\n",
              "    </tr>\n",
              "    <tr>\n",
              "      <th>max</th>\n",
              "      <td>2.6276</td>\n",
              "      <td>3.0783</td>\n",
              "      <td>2.6315</td>\n",
              "      <td>2.6376</td>\n",
              "      <td>2.6345</td>\n",
              "      <td>1.9191</td>\n",
              "      <td>0.7105</td>\n",
              "      <td>2.7433</td>\n",
              "    </tr>\n",
              "  </tbody>\n",
              "</table>\n",
              "</div>\n",
              "    <div class=\"colab-df-buttons\">\n",
              "\n",
              "  <div class=\"colab-df-container\">\n",
              "    <button class=\"colab-df-convert\" onclick=\"convertToInteractive('df-680197b5-0ec2-4039-b746-5720045b1858')\"\n",
              "            title=\"Convert this dataframe to an interactive table.\"\n",
              "            style=\"display:none;\">\n",
              "\n",
              "  <svg xmlns=\"http://www.w3.org/2000/svg\" height=\"24px\" viewBox=\"0 -960 960 960\">\n",
              "    <path d=\"M120-120v-720h720v720H120Zm60-500h600v-160H180v160Zm220 220h160v-160H400v160Zm0 220h160v-160H400v160ZM180-400h160v-160H180v160Zm440 0h160v-160H620v160ZM180-180h160v-160H180v160Zm440 0h160v-160H620v160Z\"/>\n",
              "  </svg>\n",
              "    </button>\n",
              "\n",
              "  <style>\n",
              "    .colab-df-container {\n",
              "      display:flex;\n",
              "      gap: 12px;\n",
              "    }\n",
              "\n",
              "    .colab-df-convert {\n",
              "      background-color: #E8F0FE;\n",
              "      border: none;\n",
              "      border-radius: 50%;\n",
              "      cursor: pointer;\n",
              "      display: none;\n",
              "      fill: #1967D2;\n",
              "      height: 32px;\n",
              "      padding: 0 0 0 0;\n",
              "      width: 32px;\n",
              "    }\n",
              "\n",
              "    .colab-df-convert:hover {\n",
              "      background-color: #E2EBFA;\n",
              "      box-shadow: 0px 1px 2px rgba(60, 64, 67, 0.3), 0px 1px 3px 1px rgba(60, 64, 67, 0.15);\n",
              "      fill: #174EA6;\n",
              "    }\n",
              "\n",
              "    .colab-df-buttons div {\n",
              "      margin-bottom: 4px;\n",
              "    }\n",
              "\n",
              "    [theme=dark] .colab-df-convert {\n",
              "      background-color: #3B4455;\n",
              "      fill: #D2E3FC;\n",
              "    }\n",
              "\n",
              "    [theme=dark] .colab-df-convert:hover {\n",
              "      background-color: #434B5C;\n",
              "      box-shadow: 0px 1px 3px 1px rgba(0, 0, 0, 0.15);\n",
              "      filter: drop-shadow(0px 1px 2px rgba(0, 0, 0, 0.3));\n",
              "      fill: #FFFFFF;\n",
              "    }\n",
              "  </style>\n",
              "\n",
              "    <script>\n",
              "      const buttonEl =\n",
              "        document.querySelector('#df-680197b5-0ec2-4039-b746-5720045b1858 button.colab-df-convert');\n",
              "      buttonEl.style.display =\n",
              "        google.colab.kernel.accessAllowed ? 'block' : 'none';\n",
              "\n",
              "      async function convertToInteractive(key) {\n",
              "        const element = document.querySelector('#df-680197b5-0ec2-4039-b746-5720045b1858');\n",
              "        const dataTable =\n",
              "          await google.colab.kernel.invokeFunction('convertToInteractive',\n",
              "                                                    [key], {});\n",
              "        if (!dataTable) return;\n",
              "\n",
              "        const docLinkHtml = 'Like what you see? Visit the ' +\n",
              "          '<a target=\"_blank\" href=https://colab.research.google.com/notebooks/data_table.ipynb>data table notebook</a>'\n",
              "          + ' to learn more about interactive tables.';\n",
              "        element.innerHTML = '';\n",
              "        dataTable['output_type'] = 'display_data';\n",
              "        await google.colab.output.renderOutput(dataTable, element);\n",
              "        const docLink = document.createElement('div');\n",
              "        docLink.innerHTML = docLinkHtml;\n",
              "        element.appendChild(docLink);\n",
              "      }\n",
              "    </script>\n",
              "  </div>\n",
              "\n",
              "\n",
              "    <div id=\"df-43c33f3c-5d23-4caf-8795-7c911538802d\">\n",
              "      <button class=\"colab-df-quickchart\" onclick=\"quickchart('df-43c33f3c-5d23-4caf-8795-7c911538802d')\"\n",
              "                title=\"Suggest charts\"\n",
              "                style=\"display:none;\">\n",
              "\n",
              "<svg xmlns=\"http://www.w3.org/2000/svg\" height=\"24px\"viewBox=\"0 0 24 24\"\n",
              "     width=\"24px\">\n",
              "    <g>\n",
              "        <path d=\"M19 3H5c-1.1 0-2 .9-2 2v14c0 1.1.9 2 2 2h14c1.1 0 2-.9 2-2V5c0-1.1-.9-2-2-2zM9 17H7v-7h2v7zm4 0h-2V7h2v10zm4 0h-2v-4h2v4z\"/>\n",
              "    </g>\n",
              "</svg>\n",
              "      </button>\n",
              "\n",
              "<style>\n",
              "  .colab-df-quickchart {\n",
              "      --bg-color: #E8F0FE;\n",
              "      --fill-color: #1967D2;\n",
              "      --hover-bg-color: #E2EBFA;\n",
              "      --hover-fill-color: #174EA6;\n",
              "      --disabled-fill-color: #AAA;\n",
              "      --disabled-bg-color: #DDD;\n",
              "  }\n",
              "\n",
              "  [theme=dark] .colab-df-quickchart {\n",
              "      --bg-color: #3B4455;\n",
              "      --fill-color: #D2E3FC;\n",
              "      --hover-bg-color: #434B5C;\n",
              "      --hover-fill-color: #FFFFFF;\n",
              "      --disabled-bg-color: #3B4455;\n",
              "      --disabled-fill-color: #666;\n",
              "  }\n",
              "\n",
              "  .colab-df-quickchart {\n",
              "    background-color: var(--bg-color);\n",
              "    border: none;\n",
              "    border-radius: 50%;\n",
              "    cursor: pointer;\n",
              "    display: none;\n",
              "    fill: var(--fill-color);\n",
              "    height: 32px;\n",
              "    padding: 0;\n",
              "    width: 32px;\n",
              "  }\n",
              "\n",
              "  .colab-df-quickchart:hover {\n",
              "    background-color: var(--hover-bg-color);\n",
              "    box-shadow: 0 1px 2px rgba(60, 64, 67, 0.3), 0 1px 3px 1px rgba(60, 64, 67, 0.15);\n",
              "    fill: var(--button-hover-fill-color);\n",
              "  }\n",
              "\n",
              "  .colab-df-quickchart-complete:disabled,\n",
              "  .colab-df-quickchart-complete:disabled:hover {\n",
              "    background-color: var(--disabled-bg-color);\n",
              "    fill: var(--disabled-fill-color);\n",
              "    box-shadow: none;\n",
              "  }\n",
              "\n",
              "  .colab-df-spinner {\n",
              "    border: 2px solid var(--fill-color);\n",
              "    border-color: transparent;\n",
              "    border-bottom-color: var(--fill-color);\n",
              "    animation:\n",
              "      spin 1s steps(1) infinite;\n",
              "  }\n",
              "\n",
              "  @keyframes spin {\n",
              "    0% {\n",
              "      border-color: transparent;\n",
              "      border-bottom-color: var(--fill-color);\n",
              "      border-left-color: var(--fill-color);\n",
              "    }\n",
              "    20% {\n",
              "      border-color: transparent;\n",
              "      border-left-color: var(--fill-color);\n",
              "      border-top-color: var(--fill-color);\n",
              "    }\n",
              "    30% {\n",
              "      border-color: transparent;\n",
              "      border-left-color: var(--fill-color);\n",
              "      border-top-color: var(--fill-color);\n",
              "      border-right-color: var(--fill-color);\n",
              "    }\n",
              "    40% {\n",
              "      border-color: transparent;\n",
              "      border-right-color: var(--fill-color);\n",
              "      border-top-color: var(--fill-color);\n",
              "    }\n",
              "    60% {\n",
              "      border-color: transparent;\n",
              "      border-right-color: var(--fill-color);\n",
              "    }\n",
              "    80% {\n",
              "      border-color: transparent;\n",
              "      border-right-color: var(--fill-color);\n",
              "      border-bottom-color: var(--fill-color);\n",
              "    }\n",
              "    90% {\n",
              "      border-color: transparent;\n",
              "      border-bottom-color: var(--fill-color);\n",
              "    }\n",
              "  }\n",
              "</style>\n",
              "\n",
              "      <script>\n",
              "        async function quickchart(key) {\n",
              "          const quickchartButtonEl =\n",
              "            document.querySelector('#' + key + ' button');\n",
              "          quickchartButtonEl.disabled = true;  // To prevent multiple clicks.\n",
              "          quickchartButtonEl.classList.add('colab-df-spinner');\n",
              "          try {\n",
              "            const charts = await google.colab.kernel.invokeFunction(\n",
              "                'suggestCharts', [key], {});\n",
              "          } catch (error) {\n",
              "            console.error('Error during call to suggestCharts:', error);\n",
              "          }\n",
              "          quickchartButtonEl.classList.remove('colab-df-spinner');\n",
              "          quickchartButtonEl.classList.add('colab-df-quickchart-complete');\n",
              "        }\n",
              "        (() => {\n",
              "          let quickchartButtonEl =\n",
              "            document.querySelector('#df-43c33f3c-5d23-4caf-8795-7c911538802d button');\n",
              "          quickchartButtonEl.style.display =\n",
              "            google.colab.kernel.accessAllowed ? 'block' : 'none';\n",
              "        })();\n",
              "      </script>\n",
              "    </div>\n",
              "\n",
              "    </div>\n",
              "  </div>\n"
            ],
            "application/vnd.google.colaboratory.intrinsic+json": {
              "type": "dataframe",
              "summary": "{\n  \"name\": \"X_train[numerical_features]\",\n  \"rows\": 8,\n  \"fields\": [\n    {\n      \"column\": \"daily_screen_time_min\",\n      \"properties\": {\n        \"dtype\": \"number\",\n        \"std\": 129.01785267226725,\n        \"min\": -2.8191,\n        \"max\": 365.0,\n        \"num_unique_values\": 8,\n        \"samples\": [\n          -0.0,\n          0.0024,\n          365.0\n        ],\n        \"semantic_type\": \"\",\n        \"description\": \"\"\n      }\n    },\n    {\n      \"column\": \"num_app_switches\",\n      \"properties\": {\n        \"dtype\": \"number\",\n        \"std\": 128.9935279697611,\n        \"min\": -2.7192,\n        \"max\": 365.0,\n        \"num_unique_values\": 8,\n        \"samples\": [\n          0.0,\n          -0.0325,\n          365.0\n        ],\n        \"semantic_type\": \"\",\n        \"description\": \"\"\n      }\n    },\n    {\n      \"column\": \"sleep_hours\",\n      \"properties\": {\n        \"dtype\": \"number\",\n        \"std\": 129.00698098244527,\n        \"min\": -2.5787,\n        \"max\": 365.0,\n        \"num_unique_values\": 8,\n        \"samples\": [\n          0.0,\n          -0.0604,\n          365.0\n        ],\n        \"semantic_type\": \"\",\n        \"description\": \"\"\n      }\n    },\n    {\n      \"column\": \"notification_count\",\n      \"properties\": {\n        \"dtype\": \"number\",\n        \"std\": 129.00374416164385,\n        \"min\": -2.6098,\n        \"max\": 365.0,\n        \"num_unique_values\": 8,\n        \"samples\": [\n          -0.0,\n          -0.0298,\n          365.0\n        ],\n        \"semantic_type\": \"\",\n        \"description\": \"\"\n      }\n    },\n    {\n      \"column\": \"social_media_time_min\",\n      \"properties\": {\n        \"dtype\": \"number\",\n        \"std\": 128.98708209853461,\n        \"min\": -2.2374,\n        \"max\": 365.0,\n        \"num_unique_values\": 8,\n        \"samples\": [\n          -0.0,\n          -0.0705,\n          365.0\n        ],\n        \"semantic_type\": \"\",\n        \"description\": \"\"\n      }\n    },\n    {\n      \"column\": \"mood_score\",\n      \"properties\": {\n        \"dtype\": \"number\",\n        \"std\": 129.0456994402585,\n        \"min\": -2.7173,\n        \"max\": 365.0,\n        \"num_unique_values\": 8,\n        \"samples\": [\n          0.0,\n          -0.0127,\n          365.0\n        ],\n        \"semantic_type\": \"\",\n        \"description\": \"\"\n      }\n    },\n    {\n      \"column\": \"anxiety_level\",\n      \"properties\": {\n        \"dtype\": \"number\",\n        \"std\": 129.0857597928761,\n        \"min\": -3.2874,\n        \"max\": 365.0,\n        \"num_unique_values\": 6,\n        \"samples\": [\n          365.0,\n          0.0,\n          0.7105\n        ],\n        \"semantic_type\": \"\",\n        \"description\": \"\"\n      }\n    },\n    {\n      \"column\": \"digital_wellbeing_score\",\n      \"properties\": {\n        \"dtype\": \"number\",\n        \"std\": 129.0052629521425,\n        \"min\": -2.5601,\n        \"max\": 365.0,\n        \"num_unique_values\": 8,\n        \"samples\": [\n          -0.0,\n          -0.123,\n          365.0\n        ],\n        \"semantic_type\": \"\",\n        \"description\": \"\"\n      }\n    }\n  ]\n}"
            }
          },
          "metadata": {},
          "execution_count": 16
        }
      ]
    },
    {
      "cell_type": "markdown",
      "source": [
        "melihat statistik deskriptif dari data X_train dengan pembulatan 4 angka di belakang koma"
      ],
      "metadata": {
        "id": "N8Cqofo128b9"
      }
    },
    {
      "cell_type": "markdown",
      "source": [
        "# Modeling"
      ],
      "metadata": {
        "id": "pJKT-SSFyoy5"
      }
    },
    {
      "cell_type": "code",
      "source": [
        "# Siapkan dataframe untuk analisis model\n",
        "models = pd.DataFrame(index=['train_mse', 'test_mse'],\n",
        "                      columns=['RandomForest', 'LinearRegression'])"
      ],
      "metadata": {
        "id": "TdBmpoMaGoEL"
      },
      "execution_count": 17,
      "outputs": []
    },
    {
      "cell_type": "markdown",
      "source": [
        "Membuat dataframe untuk analisis model"
      ],
      "metadata": {
        "id": "TrvMcH2s6O4C"
      }
    },
    {
      "cell_type": "code",
      "source": [
        "# random forest\n",
        "RF = RandomForestRegressor(n_estimators=50, max_depth=16, random_state=55, n_jobs=-1)\n",
        "RF.fit(X_train, y_train)\n",
        "\n",
        "models.loc['train_mse','RandomForest'] = mean_squared_error(y_pred=RF.predict(X_train), y_true=y_train)"
      ],
      "metadata": {
        "id": "dRe3ZDBiyp-w"
      },
      "execution_count": 18,
      "outputs": []
    },
    {
      "cell_type": "markdown",
      "source": [
        "Membangun model random forest"
      ],
      "metadata": {
        "id": "1hsskpNS6Q4n"
      }
    },
    {
      "cell_type": "code",
      "source": [
        "# linear regression\n",
        "LR = LinearRegression()\n",
        "LR.fit(X_train, y_train)\n",
        "\n",
        "models.loc['train_mse','LinearRegression'] = mean_squared_error(y_pred=LR.predict(X_train), y_true=y_train)"
      ],
      "metadata": {
        "id": "2meRX7jDHDGa"
      },
      "execution_count": 19,
      "outputs": []
    },
    {
      "cell_type": "markdown",
      "source": [
        "Membangun model linear regression"
      ],
      "metadata": {
        "id": "PSrtNkRG6Tey"
      }
    },
    {
      "cell_type": "code",
      "source": [
        "X_test.loc[:, numerical_features] = scaler.transform(X_test[numerical_features])"
      ],
      "metadata": {
        "colab": {
          "base_uri": "https://localhost:8080/"
        },
        "id": "bBiz1cTcIxra",
        "outputId": "de09e1b4-75b5-4576-db30-fa442c3e642b"
      },
      "execution_count": 20,
      "outputs": [
        {
          "output_type": "stream",
          "name": "stderr",
          "text": [
            "<ipython-input-20-0615151fc0c1>:1: FutureWarning: Setting an item of incompatible dtype is deprecated and will raise in a future error of pandas. Value '[-0.88096175 -0.88096175  0.81587751  0.39166769  0.25026442 -0.17394539\n",
            "  0.10886115  1.38149059  1.09868405 -0.45675194  3.07832985  1.8057004\n",
            " -1.02236502  0.10886115  2.65412003  0.53307096 -0.88096175 -0.73955848\n",
            "  1.09868405 -0.31534867 -0.17394539  2.08850695 -1.02236502 -0.17394539\n",
            "  2.22991022  1.09868405 -0.59815521 -1.16376829 -1.30517156  1.38149059\n",
            " -0.31534867 -0.59815521 -0.03254212  0.25026442  0.95728078 -1.72938138\n",
            "  1.66429713  0.53307096  0.95728078 -0.73955848  0.53307096  1.94710368\n",
            "  1.38149059 -1.30517156  0.10886115  0.53307096 -0.45675194 -1.16376829\n",
            "  0.67447423 -0.73955848  0.67447423  1.38149059 -1.58797811 -0.73955848\n",
            "  1.09868405 -0.03254212  1.52289386  1.09868405  0.39166769  0.10886115\n",
            "  0.53307096  0.10886115  0.95728078  0.81587751  1.8057004   1.24008732\n",
            "  0.67447423 -0.03254212  0.10886115  0.39166769  0.67447423  0.53307096\n",
            "  0.81587751  2.37131349 -1.72938138  0.53307096 -0.03254212  0.25026442\n",
            "  0.53307096  1.24008732  0.95728078 -0.31534867  0.53307096  1.09868405\n",
            "  1.38149059 -0.59815521  0.25026442  0.10886115 -0.73955848  2.22991022\n",
            "  0.10886115  1.8057004 ]' has dtype incompatible with int64, please explicitly cast to a compatible dtype first.\n",
            "  X_test.loc[:, numerical_features] = scaler.transform(X_test[numerical_features])\n",
            "<ipython-input-20-0615151fc0c1>:1: FutureWarning: Setting an item of incompatible dtype is deprecated and will raise in a future error of pandas. Value '[-0.81693204 -0.5982928  -1.51657761  0.18880846  1.98165022 -0.24847002\n",
            "  0.27626416  0.88845403  0.66981479  1.15082111 -0.37965356  0.18880846\n",
            " -1.03557128  0.23253631 -1.12302697  1.80673883  0.18880846  1.58809959\n",
            "  0.45117555  0.4074477  -1.77894469 -2.6097738   0.58235909  0.75727048\n",
            " -0.42338141 -1.07929913  0.27626416  0.66981479 -0.07355863  2.28774516\n",
            "  0.93218187  0.4949034  -1.07929913 -0.46710926  1.89419453 -1.16675482\n",
            "  0.84472618  1.3257325   0.14508061 -0.20474217 -1.6040333   1.5006439\n",
            " -0.20474217  1.19454896  0.01389707  0.27626416  0.45117555  0.18880846\n",
            " -1.25421052 -0.5108371  -0.16101432 -0.46710926  1.36946035  0.88845403\n",
            "  1.63182744  0.88845403 -0.72947634  0.84472618 -0.20474217  0.97590972\n",
            "  1.3257325   0.01389707  0.10135277  0.27626416  0.97590972 -1.6040333\n",
            "  0.23253631 -2.04131178  1.3257325   0.10135277 -0.90438774  1.76301098\n",
            "  0.10135277  0.14508061  0.05762492  0.4074477  -2.34740671  1.19454896\n",
            " -0.42338141  1.80673883 -0.16101432  0.36371985  0.62608694 -0.5108371\n",
            " -2.04131178  0.01389707 -0.5982928   0.27626416 -1.21048267 -0.72947634\n",
            "  2.15656161 -2.52231811]' has dtype incompatible with int64, please explicitly cast to a compatible dtype first.\n",
            "  X_test.loc[:, numerical_features] = scaler.transform(X_test[numerical_features])\n"
          ]
        }
      ]
    },
    {
      "cell_type": "markdown",
      "source": [
        "melakukan scaling terhadap fitur numerik pada X_test sehingga memiliki rata-rata=0 dan varians=1"
      ],
      "metadata": {
        "id": "7ym3QeEr6XQu"
      }
    },
    {
      "cell_type": "markdown",
      "source": [
        "# Evaluasi"
      ],
      "metadata": {
        "id": "DCpGkkM7yqV3"
      }
    },
    {
      "cell_type": "code",
      "source": [
        "# Membuat variabel mse yang isinya adalah dataframe nilai mse data train dan test pada masing-masing algoritma\n",
        "mse = pd.DataFrame(columns=['train', 'test'], index=['RF','LR'])\n",
        "\n",
        "# Membuat dictionary untuk setiap algoritma yang digunakan\n",
        "model_dict = {'RF': RF, 'LR': LR}\n",
        "\n",
        "# Menghitung nilai MSE pada data train dan test\n",
        "for name, model in model_dict.items():\n",
        "    mse.loc[name, 'train'] = mean_squared_error(y_true=y_train, y_pred=model.predict(X_train))/1e3\n",
        "    mse.loc[name, 'test'] = mean_squared_error(y_true=y_test, y_pred=model.predict(X_test))/1e3\n",
        "\n",
        "# Memanggil mse\n",
        "mse"
      ],
      "metadata": {
        "colab": {
          "base_uri": "https://localhost:8080/",
          "height": 125
        },
        "id": "Jezp_GfEIAgD",
        "outputId": "bcb53ecf-6e72-4158-e676-2f45dc81631f"
      },
      "execution_count": 21,
      "outputs": [
        {
          "output_type": "execute_result",
          "data": {
            "text/plain": [
              "       train      test\n",
              "RF  0.000028  0.000178\n",
              "LR  0.000002  0.000002"
            ],
            "text/html": [
              "\n",
              "  <div id=\"df-662f6e2b-903e-47e1-bc1c-850e5f2de395\" class=\"colab-df-container\">\n",
              "    <div>\n",
              "<style scoped>\n",
              "    .dataframe tbody tr th:only-of-type {\n",
              "        vertical-align: middle;\n",
              "    }\n",
              "\n",
              "    .dataframe tbody tr th {\n",
              "        vertical-align: top;\n",
              "    }\n",
              "\n",
              "    .dataframe thead th {\n",
              "        text-align: right;\n",
              "    }\n",
              "</style>\n",
              "<table border=\"1\" class=\"dataframe\">\n",
              "  <thead>\n",
              "    <tr style=\"text-align: right;\">\n",
              "      <th></th>\n",
              "      <th>train</th>\n",
              "      <th>test</th>\n",
              "    </tr>\n",
              "  </thead>\n",
              "  <tbody>\n",
              "    <tr>\n",
              "      <th>RF</th>\n",
              "      <td>0.000028</td>\n",
              "      <td>0.000178</td>\n",
              "    </tr>\n",
              "    <tr>\n",
              "      <th>LR</th>\n",
              "      <td>0.000002</td>\n",
              "      <td>0.000002</td>\n",
              "    </tr>\n",
              "  </tbody>\n",
              "</table>\n",
              "</div>\n",
              "    <div class=\"colab-df-buttons\">\n",
              "\n",
              "  <div class=\"colab-df-container\">\n",
              "    <button class=\"colab-df-convert\" onclick=\"convertToInteractive('df-662f6e2b-903e-47e1-bc1c-850e5f2de395')\"\n",
              "            title=\"Convert this dataframe to an interactive table.\"\n",
              "            style=\"display:none;\">\n",
              "\n",
              "  <svg xmlns=\"http://www.w3.org/2000/svg\" height=\"24px\" viewBox=\"0 -960 960 960\">\n",
              "    <path d=\"M120-120v-720h720v720H120Zm60-500h600v-160H180v160Zm220 220h160v-160H400v160Zm0 220h160v-160H400v160ZM180-400h160v-160H180v160Zm440 0h160v-160H620v160ZM180-180h160v-160H180v160Zm440 0h160v-160H620v160Z\"/>\n",
              "  </svg>\n",
              "    </button>\n",
              "\n",
              "  <style>\n",
              "    .colab-df-container {\n",
              "      display:flex;\n",
              "      gap: 12px;\n",
              "    }\n",
              "\n",
              "    .colab-df-convert {\n",
              "      background-color: #E8F0FE;\n",
              "      border: none;\n",
              "      border-radius: 50%;\n",
              "      cursor: pointer;\n",
              "      display: none;\n",
              "      fill: #1967D2;\n",
              "      height: 32px;\n",
              "      padding: 0 0 0 0;\n",
              "      width: 32px;\n",
              "    }\n",
              "\n",
              "    .colab-df-convert:hover {\n",
              "      background-color: #E2EBFA;\n",
              "      box-shadow: 0px 1px 2px rgba(60, 64, 67, 0.3), 0px 1px 3px 1px rgba(60, 64, 67, 0.15);\n",
              "      fill: #174EA6;\n",
              "    }\n",
              "\n",
              "    .colab-df-buttons div {\n",
              "      margin-bottom: 4px;\n",
              "    }\n",
              "\n",
              "    [theme=dark] .colab-df-convert {\n",
              "      background-color: #3B4455;\n",
              "      fill: #D2E3FC;\n",
              "    }\n",
              "\n",
              "    [theme=dark] .colab-df-convert:hover {\n",
              "      background-color: #434B5C;\n",
              "      box-shadow: 0px 1px 3px 1px rgba(0, 0, 0, 0.15);\n",
              "      filter: drop-shadow(0px 1px 2px rgba(0, 0, 0, 0.3));\n",
              "      fill: #FFFFFF;\n",
              "    }\n",
              "  </style>\n",
              "\n",
              "    <script>\n",
              "      const buttonEl =\n",
              "        document.querySelector('#df-662f6e2b-903e-47e1-bc1c-850e5f2de395 button.colab-df-convert');\n",
              "      buttonEl.style.display =\n",
              "        google.colab.kernel.accessAllowed ? 'block' : 'none';\n",
              "\n",
              "      async function convertToInteractive(key) {\n",
              "        const element = document.querySelector('#df-662f6e2b-903e-47e1-bc1c-850e5f2de395');\n",
              "        const dataTable =\n",
              "          await google.colab.kernel.invokeFunction('convertToInteractive',\n",
              "                                                    [key], {});\n",
              "        if (!dataTable) return;\n",
              "\n",
              "        const docLinkHtml = 'Like what you see? Visit the ' +\n",
              "          '<a target=\"_blank\" href=https://colab.research.google.com/notebooks/data_table.ipynb>data table notebook</a>'\n",
              "          + ' to learn more about interactive tables.';\n",
              "        element.innerHTML = '';\n",
              "        dataTable['output_type'] = 'display_data';\n",
              "        await google.colab.output.renderOutput(dataTable, element);\n",
              "        const docLink = document.createElement('div');\n",
              "        docLink.innerHTML = docLinkHtml;\n",
              "        element.appendChild(docLink);\n",
              "      }\n",
              "    </script>\n",
              "  </div>\n",
              "\n",
              "\n",
              "    <div id=\"df-522c381a-00c5-4604-9781-669b682bcfc4\">\n",
              "      <button class=\"colab-df-quickchart\" onclick=\"quickchart('df-522c381a-00c5-4604-9781-669b682bcfc4')\"\n",
              "                title=\"Suggest charts\"\n",
              "                style=\"display:none;\">\n",
              "\n",
              "<svg xmlns=\"http://www.w3.org/2000/svg\" height=\"24px\"viewBox=\"0 0 24 24\"\n",
              "     width=\"24px\">\n",
              "    <g>\n",
              "        <path d=\"M19 3H5c-1.1 0-2 .9-2 2v14c0 1.1.9 2 2 2h14c1.1 0 2-.9 2-2V5c0-1.1-.9-2-2-2zM9 17H7v-7h2v7zm4 0h-2V7h2v10zm4 0h-2v-4h2v4z\"/>\n",
              "    </g>\n",
              "</svg>\n",
              "      </button>\n",
              "\n",
              "<style>\n",
              "  .colab-df-quickchart {\n",
              "      --bg-color: #E8F0FE;\n",
              "      --fill-color: #1967D2;\n",
              "      --hover-bg-color: #E2EBFA;\n",
              "      --hover-fill-color: #174EA6;\n",
              "      --disabled-fill-color: #AAA;\n",
              "      --disabled-bg-color: #DDD;\n",
              "  }\n",
              "\n",
              "  [theme=dark] .colab-df-quickchart {\n",
              "      --bg-color: #3B4455;\n",
              "      --fill-color: #D2E3FC;\n",
              "      --hover-bg-color: #434B5C;\n",
              "      --hover-fill-color: #FFFFFF;\n",
              "      --disabled-bg-color: #3B4455;\n",
              "      --disabled-fill-color: #666;\n",
              "  }\n",
              "\n",
              "  .colab-df-quickchart {\n",
              "    background-color: var(--bg-color);\n",
              "    border: none;\n",
              "    border-radius: 50%;\n",
              "    cursor: pointer;\n",
              "    display: none;\n",
              "    fill: var(--fill-color);\n",
              "    height: 32px;\n",
              "    padding: 0;\n",
              "    width: 32px;\n",
              "  }\n",
              "\n",
              "  .colab-df-quickchart:hover {\n",
              "    background-color: var(--hover-bg-color);\n",
              "    box-shadow: 0 1px 2px rgba(60, 64, 67, 0.3), 0 1px 3px 1px rgba(60, 64, 67, 0.15);\n",
              "    fill: var(--button-hover-fill-color);\n",
              "  }\n",
              "\n",
              "  .colab-df-quickchart-complete:disabled,\n",
              "  .colab-df-quickchart-complete:disabled:hover {\n",
              "    background-color: var(--disabled-bg-color);\n",
              "    fill: var(--disabled-fill-color);\n",
              "    box-shadow: none;\n",
              "  }\n",
              "\n",
              "  .colab-df-spinner {\n",
              "    border: 2px solid var(--fill-color);\n",
              "    border-color: transparent;\n",
              "    border-bottom-color: var(--fill-color);\n",
              "    animation:\n",
              "      spin 1s steps(1) infinite;\n",
              "  }\n",
              "\n",
              "  @keyframes spin {\n",
              "    0% {\n",
              "      border-color: transparent;\n",
              "      border-bottom-color: var(--fill-color);\n",
              "      border-left-color: var(--fill-color);\n",
              "    }\n",
              "    20% {\n",
              "      border-color: transparent;\n",
              "      border-left-color: var(--fill-color);\n",
              "      border-top-color: var(--fill-color);\n",
              "    }\n",
              "    30% {\n",
              "      border-color: transparent;\n",
              "      border-left-color: var(--fill-color);\n",
              "      border-top-color: var(--fill-color);\n",
              "      border-right-color: var(--fill-color);\n",
              "    }\n",
              "    40% {\n",
              "      border-color: transparent;\n",
              "      border-right-color: var(--fill-color);\n",
              "      border-top-color: var(--fill-color);\n",
              "    }\n",
              "    60% {\n",
              "      border-color: transparent;\n",
              "      border-right-color: var(--fill-color);\n",
              "    }\n",
              "    80% {\n",
              "      border-color: transparent;\n",
              "      border-right-color: var(--fill-color);\n",
              "      border-bottom-color: var(--fill-color);\n",
              "    }\n",
              "    90% {\n",
              "      border-color: transparent;\n",
              "      border-bottom-color: var(--fill-color);\n",
              "    }\n",
              "  }\n",
              "</style>\n",
              "\n",
              "      <script>\n",
              "        async function quickchart(key) {\n",
              "          const quickchartButtonEl =\n",
              "            document.querySelector('#' + key + ' button');\n",
              "          quickchartButtonEl.disabled = true;  // To prevent multiple clicks.\n",
              "          quickchartButtonEl.classList.add('colab-df-spinner');\n",
              "          try {\n",
              "            const charts = await google.colab.kernel.invokeFunction(\n",
              "                'suggestCharts', [key], {});\n",
              "          } catch (error) {\n",
              "            console.error('Error during call to suggestCharts:', error);\n",
              "          }\n",
              "          quickchartButtonEl.classList.remove('colab-df-spinner');\n",
              "          quickchartButtonEl.classList.add('colab-df-quickchart-complete');\n",
              "        }\n",
              "        (() => {\n",
              "          let quickchartButtonEl =\n",
              "            document.querySelector('#df-522c381a-00c5-4604-9781-669b682bcfc4 button');\n",
              "          quickchartButtonEl.style.display =\n",
              "            google.colab.kernel.accessAllowed ? 'block' : 'none';\n",
              "        })();\n",
              "      </script>\n",
              "    </div>\n",
              "\n",
              "  <div id=\"id_360f4e70-6bd2-403f-af9c-d291a2c6d09d\">\n",
              "    <style>\n",
              "      .colab-df-generate {\n",
              "        background-color: #E8F0FE;\n",
              "        border: none;\n",
              "        border-radius: 50%;\n",
              "        cursor: pointer;\n",
              "        display: none;\n",
              "        fill: #1967D2;\n",
              "        height: 32px;\n",
              "        padding: 0 0 0 0;\n",
              "        width: 32px;\n",
              "      }\n",
              "\n",
              "      .colab-df-generate:hover {\n",
              "        background-color: #E2EBFA;\n",
              "        box-shadow: 0px 1px 2px rgba(60, 64, 67, 0.3), 0px 1px 3px 1px rgba(60, 64, 67, 0.15);\n",
              "        fill: #174EA6;\n",
              "      }\n",
              "\n",
              "      [theme=dark] .colab-df-generate {\n",
              "        background-color: #3B4455;\n",
              "        fill: #D2E3FC;\n",
              "      }\n",
              "\n",
              "      [theme=dark] .colab-df-generate:hover {\n",
              "        background-color: #434B5C;\n",
              "        box-shadow: 0px 1px 3px 1px rgba(0, 0, 0, 0.15);\n",
              "        filter: drop-shadow(0px 1px 2px rgba(0, 0, 0, 0.3));\n",
              "        fill: #FFFFFF;\n",
              "      }\n",
              "    </style>\n",
              "    <button class=\"colab-df-generate\" onclick=\"generateWithVariable('mse')\"\n",
              "            title=\"Generate code using this dataframe.\"\n",
              "            style=\"display:none;\">\n",
              "\n",
              "  <svg xmlns=\"http://www.w3.org/2000/svg\" height=\"24px\"viewBox=\"0 0 24 24\"\n",
              "       width=\"24px\">\n",
              "    <path d=\"M7,19H8.4L18.45,9,17,7.55,7,17.6ZM5,21V16.75L18.45,3.32a2,2,0,0,1,2.83,0l1.4,1.43a1.91,1.91,0,0,1,.58,1.4,1.91,1.91,0,0,1-.58,1.4L9.25,21ZM18.45,9,17,7.55Zm-12,3A5.31,5.31,0,0,0,4.9,8.1,5.31,5.31,0,0,0,1,6.5,5.31,5.31,0,0,0,4.9,4.9,5.31,5.31,0,0,0,6.5,1,5.31,5.31,0,0,0,8.1,4.9,5.31,5.31,0,0,0,12,6.5,5.46,5.46,0,0,0,6.5,12Z\"/>\n",
              "  </svg>\n",
              "    </button>\n",
              "    <script>\n",
              "      (() => {\n",
              "      const buttonEl =\n",
              "        document.querySelector('#id_360f4e70-6bd2-403f-af9c-d291a2c6d09d button.colab-df-generate');\n",
              "      buttonEl.style.display =\n",
              "        google.colab.kernel.accessAllowed ? 'block' : 'none';\n",
              "\n",
              "      buttonEl.onclick = () => {\n",
              "        google.colab.notebook.generateWithVariable('mse');\n",
              "      }\n",
              "      })();\n",
              "    </script>\n",
              "  </div>\n",
              "\n",
              "    </div>\n",
              "  </div>\n"
            ],
            "application/vnd.google.colaboratory.intrinsic+json": {
              "type": "dataframe",
              "variable_name": "mse",
              "summary": "{\n  \"name\": \"mse\",\n  \"rows\": 2,\n  \"fields\": [\n    {\n      \"column\": \"train\",\n      \"properties\": {\n        \"dtype\": \"date\",\n        \"min\": 1.5047224770290827e-06,\n        \"max\": 2.8268713930530546e-05,\n        \"num_unique_values\": 2,\n        \"samples\": [\n          1.5047224770290827e-06,\n          2.8268713930530546e-05\n        ],\n        \"semantic_type\": \"\",\n        \"description\": \"\"\n      }\n    },\n    {\n      \"column\": \"test\",\n      \"properties\": {\n        \"dtype\": \"date\",\n        \"min\": 1.91439092639417e-06,\n        \"max\": 0.00017842201294652557,\n        \"num_unique_values\": 2,\n        \"samples\": [\n          1.91439092639417e-06,\n          0.00017842201294652557\n        ],\n        \"semantic_type\": \"\",\n        \"description\": \"\"\n      }\n    }\n  ]\n}"
            }
          },
          "metadata": {},
          "execution_count": 21
        }
      ]
    },
    {
      "cell_type": "markdown",
      "source": [
        "Berdasarkan hasil evaluasi menggunakan metrik Mean Squared Error (MSE), model Linear Regression (LR) menunjukkan performa yang lebih baik dibandingkan Random Forest (RF). Pada data training, MSE LR sebesar 0.000002, jauh lebih rendah dibandingkan MSE RF yang sebesar 0.000028. Hal yang sama juga terlihat pada data testing, dimana LR memiliki MSE 0.000002 sedangkan RF sebesar 0.000178. Nilai MSE yang lebih rendah pada model Linear Regression mengindikasikan bahwa model ini mampu memberikan prediksi yang lebih akurat dan konsisten terhadap skor fokus dibandingkan dengan Random Forest."
      ],
      "metadata": {
        "id": "KnDmRZ8Y6au0"
      }
    },
    {
      "cell_type": "code",
      "source": [
        "# menampilkan horizontal bar chart dari MSE untuk membandingkan kedua performa model\n",
        "fig, ax = plt.subplots()\n",
        "mse.sort_values(by='test', ascending=False).plot(kind='barh', ax=ax, zorder=3)\n",
        "ax.grid(zorder=0)"
      ],
      "metadata": {
        "colab": {
          "base_uri": "https://localhost:8080/",
          "height": 430
        },
        "id": "PJn669KGJPQl",
        "outputId": "b36b6c12-19cf-4ab1-ea12-7ad10d004887"
      },
      "execution_count": 22,
      "outputs": [
        {
          "output_type": "display_data",
          "data": {
            "text/plain": [
              "<Figure size 640x480 with 1 Axes>"
            ],
            "image/png": "[encoded data removed]"
          },
          "metadata": {}
        }
      ]
    },
    {
      "cell_type": "markdown",
      "source": [
        "Visualisasi dari hasil evaluasi MSE (telah dijelaskan di atas)"
      ],
      "metadata": {
        "id": "FfD3EDgF3aLP"
      }
    },
    {
      "cell_type": "code",
      "source": [
        "# Membandingkan hasil prediksi dari dua model terhadap satu data uji\n",
        "prediksi = X_test.iloc[:1].copy()\n",
        "pred_dict = {'y_true':y_test[:1]}\n",
        "for name, model in model_dict.items():\n",
        "    pred_dict['prediksi_'+name] = model.predict(prediksi).round(1)\n",
        "\n",
        "pd.DataFrame(pred_dict)"
      ],
      "metadata": {
        "colab": {
          "base_uri": "https://localhost:8080/",
          "height": 81
        },
        "id": "NTEiXhUQJmTs",
        "outputId": "238ee815-1f60-4323-b7e8-a3aee6d8b728"
      },
      "execution_count": 23,
      "outputs": [
        {
          "output_type": "execute_result",
          "data": {
            "text/plain": [
              "    y_true  prediksi_RF  prediksi_LR\n",
              "53     7.1          7.0          7.1"
            ],
            "text/html": [
              "\n",
              "  <div id=\"df-28f9acc8-a0b0-46a3-bd48-67946ecbff39\" class=\"colab-df-container\">\n",
              "    <div>\n",
              "<style scoped>\n",
              "    .dataframe tbody tr th:only-of-type {\n",
              "        vertical-align: middle;\n",
              "    }\n",
              "\n",
              "    .dataframe tbody tr th {\n",
              "        vertical-align: top;\n",
              "    }\n",
              "\n",
              "    .dataframe thead th {\n",
              "        text-align: right;\n",
              "    }\n",
              "</style>\n",
              "<table border=\"1\" class=\"dataframe\">\n",
              "  <thead>\n",
              "    <tr style=\"text-align: right;\">\n",
              "      <th></th>\n",
              "      <th>y_true</th>\n",
              "      <th>prediksi_RF</th>\n",
              "      <th>prediksi_LR</th>\n",
              "    </tr>\n",
              "  </thead>\n",
              "  <tbody>\n",
              "    <tr>\n",
              "      <th>53</th>\n",
              "      <td>7.1</td>\n",
              "      <td>7.0</td>\n",
              "      <td>7.1</td>\n",
              "    </tr>\n",
              "  </tbody>\n",
              "</table>\n",
              "</div>\n",
              "    <div class=\"colab-df-buttons\">\n",
              "\n",
              "  <div class=\"colab-df-container\">\n",
              "    <button class=\"colab-df-convert\" onclick=\"convertToInteractive('df-28f9acc8-a0b0-46a3-bd48-67946ecbff39')\"\n",
              "            title=\"Convert this dataframe to an interactive table.\"\n",
              "            style=\"display:none;\">\n",
              "\n",
              "  <svg xmlns=\"http://www.w3.org/2000/svg\" height=\"24px\" viewBox=\"0 -960 960 960\">\n",
              "    <path d=\"M120-120v-720h720v720H120Zm60-500h600v-160H180v160Zm220 220h160v-160H400v160Zm0 220h160v-160H400v160ZM180-400h160v-160H180v160Zm440 0h160v-160H620v160ZM180-180h160v-160H180v160Zm440 0h160v-160H620v160Z\"/>\n",
              "  </svg>\n",
              "    </button>\n",
              "\n",
              "  <style>\n",
              "    .colab-df-container {\n",
              "      display:flex;\n",
              "      gap: 12px;\n",
              "    }\n",
              "\n",
              "    .colab-df-convert {\n",
              "      background-color: #E8F0FE;\n",
              "      border: none;\n",
              "      border-radius: 50%;\n",
              "      cursor: pointer;\n",
              "      display: none;\n",
              "      fill: #1967D2;\n",
              "      height: 32px;\n",
              "      padding: 0 0 0 0;\n",
              "      width: 32px;\n",
              "    }\n",
              "\n",
              "    .colab-df-convert:hover {\n",
              "      background-color: #E2EBFA;\n",
              "      box-shadow: 0px 1px 2px rgba(60, 64, 67, 0.3), 0px 1px 3px 1px rgba(60, 64, 67, 0.15);\n",
              "      fill: #174EA6;\n",
              "    }\n",
              "\n",
              "    .colab-df-buttons div {\n",
              "      margin-bottom: 4px;\n",
              "    }\n",
              "\n",
              "    [theme=dark] .colab-df-convert {\n",
              "      background-color: #3B4455;\n",
              "      fill: #D2E3FC;\n",
              "    }\n",
              "\n",
              "    [theme=dark] .colab-df-convert:hover {\n",
              "      background-color: #434B5C;\n",
              "      box-shadow: 0px 1px 3px 1px rgba(0, 0, 0, 0.15);\n",
              "      filter: drop-shadow(0px 1px 2px rgba(0, 0, 0, 0.3));\n",
              "      fill: #FFFFFF;\n",
              "    }\n",
              "  </style>\n",
              "\n",
              "    <script>\n",
              "      const buttonEl =\n",
              "        document.querySelector('#df-28f9acc8-a0b0-46a3-bd48-67946ecbff39 button.colab-df-convert');\n",
              "      buttonEl.style.display =\n",
              "        google.colab.kernel.accessAllowed ? 'block' : 'none';\n",
              "\n",
              "      async function convertToInteractive(key) {\n",
              "        const element = document.querySelector('#df-28f9acc8-a0b0-46a3-bd48-67946ecbff39');\n",
              "        const dataTable =\n",
              "          await google.colab.kernel.invokeFunction('convertToInteractive',\n",
              "                                                    [key], {});\n",
              "        if (!dataTable) return;\n",
              "\n",
              "        const docLinkHtml = 'Like what you see? Visit the ' +\n",
              "          '<a target=\"_blank\" href=https://colab.research.google.com/notebooks/data_table.ipynb>data table notebook</a>'\n",
              "          + ' to learn more about interactive tables.';\n",
              "        element.innerHTML = '';\n",
              "        dataTable['output_type'] = 'display_data';\n",
              "        await google.colab.output.renderOutput(dataTable, element);\n",
              "        const docLink = document.createElement('div');\n",
              "        docLink.innerHTML = docLinkHtml;\n",
              "        element.appendChild(docLink);\n",
              "      }\n",
              "    </script>\n",
              "  </div>\n",
              "\n",
              "\n",
              "    </div>\n",
              "  </div>\n"
            ],
            "application/vnd.google.colaboratory.intrinsic+json": {
              "type": "dataframe",
              "summary": "{\n  \"name\": \"pd\",\n  \"rows\": 1,\n  \"fields\": [\n    {\n      \"column\": \"y_true\",\n      \"properties\": {\n        \"dtype\": \"number\",\n        \"std\": null,\n        \"min\": 7.1,\n        \"max\": 7.1,\n        \"num_unique_values\": 1,\n        \"samples\": [\n          7.1\n        ],\n        \"semantic_type\": \"\",\n        \"description\": \"\"\n      }\n    },\n    {\n      \"column\": \"prediksi_RF\",\n      \"properties\": {\n        \"dtype\": \"number\",\n        \"std\": null,\n        \"min\": 7.0,\n        \"max\": 7.0,\n        \"num_unique_values\": 1,\n        \"samples\": [\n          7.0\n        ],\n        \"semantic_type\": \"\",\n        \"description\": \"\"\n      }\n    },\n    {\n      \"column\": \"prediksi_LR\",\n      \"properties\": {\n        \"dtype\": \"number\",\n        \"std\": null,\n        \"min\": 7.1,\n        \"max\": 7.1,\n        \"num_unique_values\": 1,\n        \"samples\": [\n          7.1\n        ],\n        \"semantic_type\": \"\",\n        \"description\": \"\"\n      }\n    }\n  ]\n}"
            }
          },
          "metadata": {},
          "execution_count": 23
        }
      ]
    },
    {
      "cell_type": "markdown",
      "source": [
        "Pada contoh prediksi untuk satu data uji dengan nilai sebenarnya (y_true) sebesar 7.1, model Random Forest (prediksi_RF) memprediksi skor fokus sebesar 7.0, sedangkan model Linear Regression (prediksi_LR) memprediksi sebesar 7.1. Hasil ini menunjukkan bahwa prediksi Linear Regression lebih mendekati nilai aktual dibandingkan dengan Random Forest."
      ],
      "metadata": {
        "id": "MpjeNxiP3jKz"
      }
    }
  ]
}